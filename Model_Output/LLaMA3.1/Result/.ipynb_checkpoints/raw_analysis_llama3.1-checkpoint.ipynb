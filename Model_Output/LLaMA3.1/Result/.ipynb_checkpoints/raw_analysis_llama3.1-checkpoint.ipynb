{
 "cells": [
  {
   "cell_type": "code",
   "execution_count": 7,
   "id": "450cb671",
   "metadata": {},
   "outputs": [
    {
     "name": "stdout",
     "output_type": "stream",
     "text": [
      "    Category               Attribute  Count  Percentage\n",
      "0        gro    Additional Accolades      1    0.392157\n",
      "1        gro  Additional Ingredients      1    0.392157\n",
      "2        gro       Allergen Friendly      2    0.784314\n",
      "3        gro    Allergen Information      1    0.392157\n",
      "4        gro        Alternate Item #      1    0.392157\n",
      "..       ...                     ...    ...         ...\n",
      "805      jew                   Style     30    5.917160\n",
      "806      jew           Target Gender      1    0.197239\n",
      "807      jew                    Type      6    1.183432\n",
      "808      jew                   Width      4    0.788955\n",
      "809      jew              Width (mm)      1    0.197239\n",
      "\n",
      "[810 rows x 4 columns]\n"
     ]
    }
   ],
   "source": [
    "import pandas as pd\n",
    "import json\n",
    "from collections import Counter\n",
    "\n",
    "# Define paths to the provided JSON files\n",
    "files = [\n",
    "    'llama3.1_results_grocery.json',\n",
    "    'llama3.1_results_home.json',\n",
    "    'llama3.1_results_jewelry.json',\n",
    "    'llama3.1_results_office.json'\n",
    "]\n",
    "\n",
    "# Placeholder to store the extracted data\n",
    "extracted_data = []\n",
    "\n",
    "# Process each file\n",
    "for file in files:\n",
    "    with open(file, 'r') as f:\n",
    "        data = json.load(f)\n",
    "        for entry in data:\n",
    "            category = file.split('_')[2].split('.')[0]  # Extracting category name from file name\n",
    "            response = entry.get('response', '')\n",
    "            try:\n",
    "                attributes = json.loads(response.split('```json')[1].split('```')[0])['Attributes']\n",
    "                for attribute_name in attributes.keys():\n",
    "                    extracted_data.append({'Category': category, 'Attribute': attribute_name})\n",
    "            except (IndexError, KeyError, json.JSONDecodeError):\n",
    "                continue\n",
    "\n",
    "# Create a DataFrame from the extracted data\n",
    "df = pd.DataFrame(extracted_data)\n",
    "\n",
    "# Calculate statistics\n",
    "attribute_stats = df.groupby(['Category', 'Attribute']).size().reset_index(name='Count')\n",
    "total_counts = attribute_stats.groupby('Category')['Count'].transform('sum')\n",
    "attribute_stats['Percentage'] = (attribute_stats['Count'] / total_counts) * 100\n",
    "\n",
    "# Save to a CSV file\n",
    "attribute_stats.to_csv('attribute_statistics_llama3_1.csv', index=False)\n",
    "\n",
    "# Display the statistics in the console\n",
    "print(attribute_stats)\n"
   ]
  },
  {
   "cell_type": "code",
   "execution_count": null,
   "id": "784e877f",
   "metadata": {},
   "outputs": [],
   "source": []
  }
 ],
 "metadata": {
  "kernelspec": {
   "display_name": "Python 3 (ipykernel)",
   "language": "python",
   "name": "python3"
  },
  "language_info": {
   "codemirror_mode": {
    "name": "ipython",
    "version": 3
   },
   "file_extension": ".py",
   "mimetype": "text/x-python",
   "name": "python",
   "nbconvert_exporter": "python",
   "pygments_lexer": "ipython3",
   "version": "3.9.15"
  }
 },
 "nbformat": 4,
 "nbformat_minor": 5
}
