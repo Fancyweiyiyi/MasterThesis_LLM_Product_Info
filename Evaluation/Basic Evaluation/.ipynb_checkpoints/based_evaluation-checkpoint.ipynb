{
 "cells": [
  {
   "cell_type": "code",
   "execution_count": 1,
   "id": "9dd156bd",
   "metadata": {},
   "outputs": [],
   "source": [
    "import pandas as pd\n",
    "\n",
    "# Example data (replace with actual file paths)\n",
    "ground_truth_path = \"ground_truth.xlsx\"\n",
    "model_output_path_gpt4 = \"raw_results_chatgpt4_statistic.csv\"\n",
    "model_output_path_gpt4omini = \"raw_results_chatgpt4omini.csv\"\n",
    "model_output_path_llama31 = \"raw_results_llama3_1.csv\"\n",
    "\n",
    "\n",
    "# Load data\n",
    "ground_truth = pd.read_excel(ground_truth_path)\n",
    "model_output_gpt4 = pd.read_csv(model_output_path_gpt4)\n",
    "model_output_gpt4omini = pd.read_csv(model_output_path_gpt4omini)\n",
    "model_output_llama31 = pd.read_csv(model_output_path_llama31)\n",
    "\n",
    "\n",
    "\n",
    "# Normalize attribute names\n",
    "def normalize(data):\n",
    "    data[\"Attribute\"] = data[\"Attribute\"].str.lower().str.strip()\n",
    "    return data\n",
    "\n",
    "ground_truth = normalize(ground_truth)\n",
    "model_output_gpt4 = normalize(model_output_gpt4)\n",
    "model_output_gpt4omini = normalize(model_output_gpt4omini)\n",
    "model_output_llama31 = normalize(model_output_llama31)"
   ]
  },
  {
   "cell_type": "markdown",
   "id": "9c1dac46",
   "metadata": {},
   "source": [
    "gpt4"
   ]
  },
  {
   "cell_type": "code",
   "execution_count": 2,
   "id": "9fdb4887",
   "metadata": {},
   "outputs": [],
   "source": [
    "# Identify true positives, false negatives, and false positives\n",
    "true_positives_gpt4 = model_output_gpt4[model_output_gpt4[\"Attribute\"].isin(ground_truth[\"Attribute\"])]\n",
    "false_negatives_gpt4 = ground_truth[~ground_truth[\"Attribute\"].isin(model_output_gpt4[\"Attribute\"])]\n",
    "false_positives_gpt4 = model_output_gpt4[~model_output_gpt4[\"Attribute\"].isin(ground_truth[\"Attribute\"])]"
   ]
  },
  {
   "cell_type": "code",
   "execution_count": 3,
   "id": "82a34ab9",
   "metadata": {},
   "outputs": [
    {
     "name": "stdout",
     "output_type": "stream",
     "text": [
      "Precision_gpt4: 0.05\n",
      "Recall_gpt4: 0.59\n",
      "F1-Score_gpt4: 0.09\n",
      "Coverage_gpt4: 15.05\n"
     ]
    }
   ],
   "source": [
    "# Calculate metrics\n",
    "precision_gpt4 = len(true_positives_gpt4) / (len(true_positives_gpt4) + len(false_positives_gpt4)) if len(true_positives_gpt4) + len(false_positives_gpt4) > 0 else 0\n",
    "recall_gpt4 = len(true_positives_gpt4) / (len(true_positives_gpt4) + len(false_negatives_gpt4)) if len(true_positives_gpt4) + len(false_negatives_gpt4) > 0 else 0\n",
    "f1_score_gpt4 = 2 * (precision_gpt4 * recall_gpt4) / (precision_gpt4 + recall_gpt4) if precision_gpt4 + recall_gpt4 > 0 else 0\n",
    "coverage_gpt4 = model_output_gpt4[\"Attribute\"].nunique() / ground_truth[\"Attribute\"].nunique()\n",
    "\n",
    "print(f\"Precision_gpt4: {precision_gpt4:.2f}\")\n",
    "print(f\"Recall_gpt4: {recall_gpt4:.2f}\")\n",
    "print(f\"F1-Score_gpt4: {f1_score_gpt4:.2f}\")\n",
    "print(f\"Coverage_gpt4: {coverage_gpt4:.2f}\")"
   ]
  },
  {
   "cell_type": "code",
   "execution_count": 4,
   "id": "9586f93e",
   "metadata": {},
   "outputs": [
    {
     "name": "stdout",
     "output_type": "stream",
     "text": [
      "   Category      Attribute  Count_gt  Percentage_gt  Count_model  \\\n",
      "0   grocery   packing_type        32       6.694561            1   \n",
      "1   grocery   packing_type        32       6.694561            1   \n",
      "2   grocery         flavor        23       4.811715           10   \n",
      "3   grocery         flavor        23       4.811715            1   \n",
      "4   grocery   product_type        19       3.974895            1   \n",
      "5   grocery          brand        57      11.924686           24   \n",
      "6   grocery         source        57      11.924686            1   \n",
      "7   grocery        organic         2       0.418410            1   \n",
      "8   grocery     ingredient        14       2.928870            1   \n",
      "9   grocery          color         1       0.209205            1   \n",
      "10  grocery         series        28       5.857741            3   \n",
      "11     home       material       171       8.901614           77   \n",
      "12     home       material       171       8.901614            1   \n",
      "13     home         height        57       2.967205           12   \n",
      "14     home       capacity        77       4.008329           22   \n",
      "15     home          gauge        40       2.082249            6   \n",
      "16     home   product_type       102       5.309735            2   \n",
      "17     home         length        56       2.915148           15   \n",
      "18     home          shape        28       1.457574            8   \n",
      "19     home        voltage        26       1.353462           14   \n",
      "20     home          color        74       3.852160           49   \n",
      "21     home           base        35       1.821968            7   \n",
      "22     home        shelves        35       1.821968            8   \n",
      "23     home         splash        35       1.821968            3   \n",
      "24     home          width        75       3.904217           23   \n",
      "25     home          depth        30       1.561687            9   \n",
      "26     home   manufacturer       200      10.411244           10   \n",
      "27     home  certification        77       4.008329           29   \n",
      "28     home       diameter        23       1.197293            4   \n",
      "29     home           amps        15       0.780843            3   \n",
      "30     home       shipping         8       0.416450            1   \n",
      "31     home        made_in         7       0.364394            1   \n",
      "32     home       warranty        17       0.884956           10   \n",
      "33     home      stackable         2       0.104112            2   \n",
      "34     home            btu        22       1.145237            6   \n",
      "35  jewelry   product_type        51       6.684142            1   \n",
      "36  jewelry   product_type        51       6.684142            1   \n",
      "37  jewelry         gender        59       7.732634            4   \n",
      "38  jewelry          brand        96      12.581913           50   \n",
      "39  jewelry   model_number       130      17.038008            1   \n",
      "40  jewelry     collection        37       4.849279           21   \n",
      "41  jewelry          width         2       0.262123            6   \n",
      "42   office       capacity        45       2.101822            7   \n",
      "43   office   product_type        69       3.222793            1   \n",
      "44   office   product_type        69       3.222793            1   \n",
      "45   office         length        37       1.728164            3   \n",
      "46   office       material       118       5.511443           46   \n",
      "47   office          brand       244      11.396544           71   \n",
      "48   office          brand       244      11.396544            2   \n",
      "49   office        closure        31       1.447922            1   \n",
      "50   office         colors       191       8.921065            4   \n",
      "51   office       mounting        17       0.794021            1   \n",
      "52   office        binding        22       1.027557            4   \n",
      "53   office         source       247      11.536665            1   \n",
      "54   office       warranty         5       0.233536            6   \n",
      "55   office       shipping         2       0.093414            1   \n",
      "56   office  compatibility        22       1.027557           23   \n",
      "57   office  compatibility        22       1.027557            1   \n",
      "58   office          store        23       1.074264            2   \n",
      "\n",
      "    Percentage_model  Deviation (Count)  Deviation (Percentage)  \n",
      "0               0.25                -31               -6.444561  \n",
      "1               0.25                -31               -6.444561  \n",
      "2               2.45                -13               -2.361715  \n",
      "3               0.25                -22               -4.561715  \n",
      "4               0.25                -18               -3.724895  \n",
      "5               5.88                -33               -6.044686  \n",
      "6               0.25                -56              -11.674686  \n",
      "7               0.25                 -1               -0.168410  \n",
      "8               0.25                -13               -2.678870  \n",
      "9               0.25                  0                0.040795  \n",
      "10              0.74                -25               -5.117741  \n",
      "11              4.14                -94               -4.761614  \n",
      "12              0.05               -170               -8.851614  \n",
      "13              0.64                -45               -2.327205  \n",
      "14              1.18                -55               -2.828329  \n",
      "15              0.32                -34               -1.762249  \n",
      "16              0.11               -100               -5.199735  \n",
      "17              0.81                -41               -2.105148  \n",
      "18              0.43                -20               -1.027574  \n",
      "19              0.75                -12               -0.603462  \n",
      "20              2.63                -25               -1.222160  \n",
      "21              0.38                -28               -1.441968  \n",
      "22              0.43                -27               -1.391968  \n",
      "23              0.16                -32               -1.661968  \n",
      "24              1.24                -52               -2.664217  \n",
      "25              0.48                -21               -1.081687  \n",
      "26              0.54               -190               -9.871244  \n",
      "27              1.56                -48               -2.448329  \n",
      "28              0.21                -19               -0.987293  \n",
      "29              0.16                -12               -0.620843  \n",
      "30              0.05                 -7               -0.366450  \n",
      "31              0.05                 -6               -0.314394  \n",
      "32              0.54                 -7               -0.344956  \n",
      "33              0.11                  0                0.005888  \n",
      "34              0.32                -16               -0.825237  \n",
      "35              0.15                -50               -6.534142  \n",
      "36              0.15                -50               -6.534142  \n",
      "37              0.60                -55               -7.132634  \n",
      "38              7.52                -46               -5.061913  \n",
      "39              0.15               -129              -16.888008  \n",
      "40              3.16                -16               -1.689279  \n",
      "41              0.90                  4                0.637877  \n",
      "42              0.41                -38               -1.691822  \n",
      "43              0.06                -68               -3.162793  \n",
      "44              0.06                -68               -3.162793  \n",
      "45              0.18                -34               -1.548164  \n",
      "46              2.72                -72               -2.791443  \n",
      "47              4.20               -173               -7.196544  \n",
      "48              0.12               -242              -11.276544  \n",
      "49              0.06                -30               -1.387922  \n",
      "50              0.24               -187               -8.681065  \n",
      "51              0.06                -16               -0.734021  \n",
      "52              0.24                -18               -0.787557  \n",
      "53              0.06               -246              -11.476665  \n",
      "54              0.36                  1                0.126464  \n",
      "55              0.06                 -1               -0.033414  \n",
      "56              1.36                  1                0.332443  \n",
      "57              0.06                -21               -0.967557  \n",
      "58              0.12                -21               -0.954264  \n"
     ]
    }
   ],
   "source": [
    "# Merge datasets for comparison\n",
    "comparison_gpt4 = ground_truth.merge(model_output_gpt4, on=[\"Category\", \"Attribute\"], suffixes=(\"_gt\", \"_model\"))\n",
    "\n",
    "# Calculate deviations\n",
    "comparison_gpt4[\"Deviation (Count)\"] = comparison_gpt4[\"Count_model\"] - comparison_gpt4[\"Count_gt\"]\n",
    "comparison_gpt4[\"Deviation (Percentage)\"] = comparison_gpt4[\"Percentage_model\"] - comparison_gpt4[\"Percentage_gt\"]\n",
    "\n",
    "print(comparison_gpt4)"
   ]
  },
  {
   "cell_type": "markdown",
   "id": "ca576992",
   "metadata": {},
   "source": [
    "gpt4omini"
   ]
  },
  {
   "cell_type": "code",
   "execution_count": 5,
   "id": "0ef065df",
   "metadata": {},
   "outputs": [],
   "source": [
    "# Identify true positives, false negatives, and false positives\n",
    "true_positives_gpt4omini = model_output_gpt4omini[model_output_gpt4omini[\"Attribute\"].isin(ground_truth[\"Attribute\"])]\n",
    "false_negatives_gpt4omini = ground_truth[~ground_truth[\"Attribute\"].isin(model_output_gpt4omini[\"Attribute\"])]\n",
    "false_positives_gpt4omini = model_output_gpt4omini[~model_output_gpt4omini[\"Attribute\"].isin(ground_truth[\"Attribute\"])]"
   ]
  },
  {
   "cell_type": "code",
   "execution_count": 6,
   "id": "aac2e92c",
   "metadata": {},
   "outputs": [
    {
     "name": "stdout",
     "output_type": "stream",
     "text": [
      "Precision_gpt4omini: 0.18\n",
      "Recall_gpt4omini: 0.15\n",
      "F1-Score_gpt4omini: 0.16\n",
      "Coverage_gpt4omini: 0.82\n"
     ]
    }
   ],
   "source": [
    "# Calculate metrics\n",
    "precision_gpt4omini = len(true_positives_gpt4omini) / (len(true_positives_gpt4omini) + len(false_positives_gpt4omini)) if len(true_positives_gpt4omini) + len(false_positives_gpt4omini) > 0 else 0\n",
    "recall_gpt4omini = len(true_positives_gpt4omini) / (len(true_positives_gpt4omini) + len(false_negatives_gpt4omini)) if len(true_positives_gpt4omini) + len(false_negatives_gpt4omini) > 0 else 0\n",
    "f1_score_gpt4omini = 2 * (precision_gpt4omini * recall_gpt4omini) / (precision_gpt4omini + recall_gpt4omini) if precision_gpt4omini + recall_gpt4omini > 0 else 0\n",
    "coverage_gpt4omini = model_output_gpt4omini[\"Attribute\"].nunique() / ground_truth[\"Attribute\"].nunique()\n",
    "\n",
    "print(f\"Precision_gpt4omini: {precision_gpt4omini:.2f}\")\n",
    "print(f\"Recall_gpt4omini: {recall_gpt4omini:.2f}\")\n",
    "print(f\"F1-Score_gpt4omini: {f1_score_gpt4omini:.2f}\")\n",
    "print(f\"Coverage_gpt4omini: {coverage_gpt4omini:.2f}\")"
   ]
  },
  {
   "cell_type": "code",
   "execution_count": 7,
   "id": "20408966",
   "metadata": {},
   "outputs": [
    {
     "name": "stdout",
     "output_type": "stream",
     "text": [
      "   Category      Attribute  Count_gt  Percentage_gt  Count_model  \\\n",
      "0   grocery          brand        57      11.924686            1   \n",
      "1      home       material       171       8.901614            1   \n",
      "2      home       capacity        77       4.008329            3   \n",
      "3      home          color        74       3.852160            1   \n",
      "4      home  certification        77       4.008329            1   \n",
      "5      home            btu        22       1.145237            1   \n",
      "6   jewelry   product_type        51       6.684142            1   \n",
      "7   jewelry          brand        96      12.581913            1   \n",
      "8   jewelry   model_number       130      17.038008            2   \n",
      "9    office       capacity        45       2.101822            2   \n",
      "10   office       material       118       5.511443            1   \n",
      "11   office  pack_quantity        93       4.343765            1   \n",
      "12   office          brand       244      11.396544            7   \n",
      "13   office   paper_weight        19       0.887436            1   \n",
      "\n",
      "    Percentage_model  Deviation (Count)  Deviation (Percentage)  \n",
      "0               5.26                -56               -6.664686  \n",
      "1               1.96               -170               -6.941614  \n",
      "2               5.88                -74                1.871671  \n",
      "3               1.96                -73               -1.892160  \n",
      "4               1.96                -76               -2.048329  \n",
      "5               1.96                -21                0.814763  \n",
      "6               6.25                -50               -0.434142  \n",
      "7               6.25                -95               -6.331913  \n",
      "8              12.50               -128               -4.538008  \n",
      "9               2.86                -43                0.758178  \n",
      "10              1.43               -117               -4.081443  \n",
      "11              1.43                -92               -2.913765  \n",
      "12             10.00               -237               -1.396544  \n",
      "13              1.43                -18                0.542564  \n"
     ]
    }
   ],
   "source": [
    "# Merge datasets for comparison\n",
    "comparison_gpt4omini = ground_truth.merge(model_output_gpt4omini, on=[\"Category\", \"Attribute\"], suffixes=(\"_gt\", \"_model\"))\n",
    "\n",
    "# Calculate deviations\n",
    "comparison_gpt4omini[\"Deviation (Count)\"] = comparison_gpt4omini[\"Count_model\"] - comparison_gpt4omini[\"Count_gt\"]\n",
    "comparison_gpt4omini[\"Deviation (Percentage)\"] = comparison_gpt4omini[\"Percentage_model\"] - comparison_gpt4omini[\"Percentage_gt\"]\n",
    "\n",
    "print(comparison_gpt4omini)"
   ]
  },
  {
   "cell_type": "markdown",
   "id": "43ded4c7",
   "metadata": {},
   "source": [
    "llama3.1"
   ]
  },
  {
   "cell_type": "code",
   "execution_count": null,
   "id": "a5544b77",
   "metadata": {},
   "outputs": [],
   "source": [
    "# Identify true positives, false negatives, and false positives\n",
    "true_positives_llama31 = model_output_llama31[model_output_llama31[\"Attribute\"].isin(ground_truth[\"Attribute\"])]\n",
    "false_negatives_llama31 = ground_truth[~ground_truth[\"Attribute\"].isin(model_output_llama31[\"Attribute\"])]\n",
    "false_positives_llama31 = model_output_llama31[~model_output_llama31[\"Attribute\"].isin(ground_truth[\"Attribute\"])]"
   ]
  },
  {
   "cell_type": "code",
   "execution_count": null,
   "id": "618a8aef",
   "metadata": {},
   "outputs": [],
   "source": [
    "# Calculate metrics\n",
    "precision_llama31 = len(true_positives_llama31) / (len(true_positives_llama31) + len(false_positives_llama31)) if len(true_positives_llama31) + len(false_positives_llama31) > 0 else 0\n",
    "recall_llama31 = len(true_positives_llama31) / (len(true_positives_llama31) + len(false_negatives_llama31)) if len(true_positives_llama31) + len(false_negatives_llama31) > 0 else 0\n",
    "f1_score_llama31 = 2 * (precision_llama31 * recall_llama31) / (precision_llama31 + recall_llama31) if precision_llama31 + recall_llama31 > 0 else 0\n",
    "coverage_llama31 = model_output_llama31[\"Attribute\"].nunique() / ground_truth[\"Attribute\"].nunique()\n",
    "\n",
    "print(f\"Precision_llama31: {precision_llama31:.2f}\")\n",
    "print(f\"Recall_llama31: {recall_llama31:.2f}\")\n",
    "print(f\"F1-Score_llama31: {f1_score_llama31:.2f}\")\n",
    "print(f\"Coverage_llama31: {coverage_llama31:.2f}\")"
   ]
  },
  {
   "cell_type": "code",
   "execution_count": null,
   "id": "863f4200",
   "metadata": {},
   "outputs": [],
   "source": [
    "# Merge datasets for comparison\n",
    "comparison_llama31 = ground_truth.merge(model_output_llama31, on=[\"Category\", \"Attribute\"], suffixes=(\"_gt\", \"_model\"))\n",
    "\n",
    "# Calculate deviations\n",
    "comparison_llama31[\"Deviation (Count)\"] = comparison_llama31[\"Count_model\"] - comparison_llama31[\"Count_gt\"]\n",
    "comparison_llama31[\"Deviation (Percentage)\"] = comparison_llama31[\"Percentage_model\"] - comparison_llama31[\"Percentage_gt\"]\n",
    "\n",
    "print(comparison_llama31)"
   ]
  }
 ],
 "metadata": {
  "kernelspec": {
   "display_name": "Python 3 (ipykernel)",
   "language": "python",
   "name": "python3"
  },
  "language_info": {
   "codemirror_mode": {
    "name": "ipython",
    "version": 3
   },
   "file_extension": ".py",
   "mimetype": "text/x-python",
   "name": "python",
   "nbconvert_exporter": "python",
   "pygments_lexer": "ipython3",
   "version": "3.9.15"
  }
 },
 "nbformat": 4,
 "nbformat_minor": 5
}
