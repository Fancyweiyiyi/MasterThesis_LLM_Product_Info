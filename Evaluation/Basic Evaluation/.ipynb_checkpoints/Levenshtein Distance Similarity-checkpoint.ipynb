{
 "cells": [
  {
   "cell_type": "code",
   "execution_count": 1,
   "id": "1c2eb888",
   "metadata": {},
   "outputs": [],
   "source": [
    "import pandas as pd\n",
    "\n",
    "# Load the model outputs\n",
    "gpt4_outputs = pd.read_csv(\"raw_results_chatgpt4_statistic.csv\")\n",
    "gpt4omini_outputs = pd.read_csv(\"raw_results_chatgpt4omini.csv\")\n",
    "llama3_outputs = pd.read_csv(\"raw_results_llama3_1.csv\")\n",
    "\n",
    "# Load the manual mapping table\n",
    "mapping_table = pd.read_excel(\"Manual_Mapping_Table.xlsx\")\n",
    "\n",
    "# Load the ground truth\n",
    "ground_truth = pd.read_excel(\"ground_truth.xlsx\")\n"
   ]
  },
  {
   "cell_type": "code",
   "execution_count": 2,
   "id": "6034a03b",
   "metadata": {},
   "outputs": [],
   "source": [
    "import Levenshtein\n",
    "\n",
    "def calculate_similarity(attribute, ground_truth_attributes, threshold=0.8):\n",
    "    \"\"\"\n",
    "    Calculate the similarity between an extracted attribute and ground truth attributes.\n",
    "    Return the best match if similarity exceeds the threshold.\n",
    "    \"\"\"\n",
    "    best_match = None\n",
    "    highest_similarity = 0\n",
    "    \n",
    "    for gt_attribute in ground_truth_attributes:\n",
    "        # Calculate normalized Levenshtein similarity\n",
    "        similarity = 1 - Levenshtein.distance(attribute, gt_attribute) / max(len(attribute), len(gt_attribute))\n",
    "        if similarity > highest_similarity:\n",
    "            highest_similarity = similarity\n",
    "            best_match = gt_attribute\n",
    "    \n",
    "    # Only return the match if it meets the threshold\n",
    "    if highest_similarity >= threshold:\n",
    "        return best_match, highest_similarity\n",
    "    return None, highest_similarity\n"
   ]
  },
  {
   "cell_type": "code",
   "execution_count": 3,
   "id": "0ea6d112",
   "metadata": {},
   "outputs": [],
   "source": [
    "def evaluate_model(model_outputs, ground_truth_attributes, threshold=0.8):\n",
    "    results = []\n",
    "    \n",
    "    for index, row in model_outputs.iterrows():\n",
    "        extracted_attribute = row[\"Attribute\"]  # Replace \"Attribute\" with your column name\n",
    "        category = row[\"Category\"]  # Replace \"Category\" with your column name\n",
    "        \n",
    "        # Filter ground truth attributes by category\n",
    "        gt_attributes = ground_truth[ground_truth[\"Category\"] == category][\"Attribute\"]\n",
    "        \n",
    "        # Calculate similarity\n",
    "        best_match, similarity = calculate_similarity(extracted_attribute, gt_attributes, threshold)\n",
    "        results.append({\n",
    "            \"Extracted Attribute\": extracted_attribute,\n",
    "            \"Best Match\": best_match,\n",
    "            \"Similarity\": similarity,\n",
    "            \"Category\": category\n",
    "        })\n",
    "    \n",
    "    return pd.DataFrame(results)\n",
    "\n",
    "# Evaluate each model\n",
    "gpt4_similarity_results = evaluate_model(gpt4_outputs, ground_truth, threshold=0.8)\n",
    "gpt4omini_similarity_results = evaluate_model(gpt4omini_outputs, ground_truth, threshold=0.8)\n",
    "llama3_similarity_results = evaluate_model(llama3_outputs, ground_truth, threshold=0.8)\n",
    "\n",
    "# Save results to files for analysis\n",
    "gpt4_similarity_results.to_csv(\"gpt4_similarity_results.csv\", index=False)\n",
    "gpt4omini_similarity_results.to_csv(\"gpt4omini_similarity_results.csv\", index=False)\n",
    "llama3_similarity_results.to_csv(\"llama3_similarity_results.csv\", index=False)\n"
   ]
  },
  {
   "cell_type": "code",
   "execution_count": 4,
   "id": "39ea50dd",
   "metadata": {},
   "outputs": [
    {
     "name": "stdout",
     "output_type": "stream",
     "text": [
      "   Threshold  Precision    Recall  F1-Score\n",
      "0       0.70   0.056812  0.809917  0.106176\n",
      "1       0.75   0.052754  0.752066  0.098592\n",
      "2       0.80   0.041739  0.595041  0.078007\n",
      "3       0.85   0.019710  0.280992  0.036836\n",
      "4       0.90   0.008696  0.123967  0.016251\n"
     ]
    }
   ],
   "source": [
    "def analyze_thresholds(model_outputs, ground_truth_attributes, thresholds):\n",
    "    threshold_results = []\n",
    "    \n",
    "    for threshold in thresholds:\n",
    "        # Evaluate model at current threshold\n",
    "        results = evaluate_model(model_outputs, ground_truth_attributes, threshold)\n",
    "        \n",
    "        # Calculate metrics\n",
    "        matched = results[\"Best Match\"].notna().sum()\n",
    "        total_extracted = len(results)\n",
    "        total_ground_truth = len(ground_truth_attributes)\n",
    "        \n",
    "        precision = matched / total_extracted if total_extracted > 0 else 0\n",
    "        recall = matched / total_ground_truth if total_ground_truth > 0 else 0\n",
    "        f1_score = 2 * (precision * recall) / (precision + recall) if precision + recall > 0 else 0\n",
    "        \n",
    "        threshold_results.append({\n",
    "            \"Threshold\": threshold,\n",
    "            \"Precision\": precision,\n",
    "            \"Recall\": recall,\n",
    "            \"F1-Score\": f1_score\n",
    "        })\n",
    "    \n",
    "    return pd.DataFrame(threshold_results)\n",
    "\n",
    "thresholds = [0.7, 0.75, 0.8, 0.85, 0.9]\n",
    "gpt4_threshold_analysis = analyze_thresholds(gpt4_outputs, ground_truth, thresholds)\n",
    "print(gpt4_threshold_analysis)\n"
   ]
  },
  {
   "cell_type": "code",
   "execution_count": 5,
   "id": "17ca8bdd",
   "metadata": {},
   "outputs": [
    {
     "name": "stdout",
     "output_type": "stream",
     "text": [
      "   Threshold  Precision    Recall  F1-Score\n",
      "0       0.70       0.23  0.190083  0.208145\n",
      "1       0.75       0.22  0.181818  0.199095\n",
      "2       0.80       0.16  0.132231  0.144796\n",
      "3       0.85       0.14  0.115702  0.126697\n",
      "4       0.90       0.14  0.115702  0.126697\n"
     ]
    }
   ],
   "source": [
    "gpt4omini_threshold_analysis = analyze_thresholds(gpt4omini_outputs, ground_truth, thresholds)\n",
    "print(gpt4omini_threshold_analysis)"
   ]
  },
  {
   "cell_type": "code",
   "execution_count": 6,
   "id": "b5fb4fff",
   "metadata": {},
   "outputs": [
    {
     "name": "stdout",
     "output_type": "stream",
     "text": [
      "   Threshold  Precision    Recall  F1-Score\n",
      "0       0.70   0.044355  0.454545  0.080823\n",
      "1       0.75   0.041129  0.421488  0.074945\n",
      "2       0.80   0.032258  0.330579  0.058780\n",
      "3       0.85   0.014516  0.148760  0.026451\n",
      "4       0.90   0.004839  0.049587  0.008817\n"
     ]
    }
   ],
   "source": [
    "llama3_threshold_analysis = analyze_thresholds(llama3_outputs, ground_truth, thresholds)\n",
    "print(llama3_threshold_analysis)"
   ]
  },
  {
   "cell_type": "code",
   "execution_count": 12,
   "id": "eb8e5220",
   "metadata": {},
   "outputs": [
    {
     "ename": "NameError",
     "evalue": "name 'gpt4_output' is not defined",
     "output_type": "error",
     "traceback": [
      "\u001b[1;31m---------------------------------------------------------------------------\u001b[0m",
      "\u001b[1;31mNameError\u001b[0m                                 Traceback (most recent call last)",
      "\u001b[1;32m~\\AppData\\Local\\Temp\\ipykernel_13400\\3793023978.py\u001b[0m in \u001b[0;36m<module>\u001b[1;34m\u001b[0m\n\u001b[0;32m      1\u001b[0m \u001b[1;31m# Extract unique attributes for each model\u001b[0m\u001b[1;33m\u001b[0m\u001b[1;33m\u001b[0m\u001b[0m\n\u001b[1;32m----> 2\u001b[1;33m \u001b[0mgpt4_attributes\u001b[0m \u001b[1;33m=\u001b[0m \u001b[0mlist\u001b[0m\u001b[1;33m(\u001b[0m\u001b[0mset\u001b[0m\u001b[1;33m(\u001b[0m\u001b[0mgpt4_output\u001b[0m\u001b[1;33m[\u001b[0m\u001b[1;34m\"Attribute\"\u001b[0m\u001b[1;33m]\u001b[0m\u001b[1;33m)\u001b[0m\u001b[1;33m)\u001b[0m\u001b[1;33m\u001b[0m\u001b[1;33m\u001b[0m\u001b[0m\n\u001b[0m\u001b[0;32m      3\u001b[0m \u001b[0mgpt4omini_attributes\u001b[0m \u001b[1;33m=\u001b[0m \u001b[0mlist\u001b[0m\u001b[1;33m(\u001b[0m\u001b[0mset\u001b[0m\u001b[1;33m(\u001b[0m\u001b[0mgpt4omini_output\u001b[0m\u001b[1;33m[\u001b[0m\u001b[1;34m\"Attribute\"\u001b[0m\u001b[1;33m]\u001b[0m\u001b[1;33m)\u001b[0m\u001b[1;33m)\u001b[0m\u001b[1;33m\u001b[0m\u001b[1;33m\u001b[0m\u001b[0m\n\u001b[0;32m      4\u001b[0m \u001b[0mllama3_attributes\u001b[0m \u001b[1;33m=\u001b[0m \u001b[0mlist\u001b[0m\u001b[1;33m(\u001b[0m\u001b[0mset\u001b[0m\u001b[1;33m(\u001b[0m\u001b[0mllama3_output\u001b[0m\u001b[1;33m[\u001b[0m\u001b[1;34m\"Attribute\"\u001b[0m\u001b[1;33m]\u001b[0m\u001b[1;33m)\u001b[0m\u001b[1;33m)\u001b[0m\u001b[1;33m\u001b[0m\u001b[1;33m\u001b[0m\u001b[0m\n\u001b[0;32m      5\u001b[0m \u001b[1;33m\u001b[0m\u001b[0m\n",
      "\u001b[1;31mNameError\u001b[0m: name 'gpt4_output' is not defined"
     ]
    }
   ],
   "source": [
    "# Extract unique attributes for each model\n",
    "gpt4_attributes = list(set(gpt4_outputs[\"Attribute\"]))\n",
    "gpt4omini_attributes = list(set(gpt4omini_outputs[\"Attribute\"]))\n",
    "llama3_attributes = list(set(llama3_outputs[\"Attribute\"]))\n",
    "\n",
    "print(f\"GPT-4: {len(gpt4_attributes)} attributes\")\n",
    "print(f\"GPT-4o Mini: {len(gpt4omini_attributes)} attributes\")\n",
    "print(f\"LLaMA 3.1: {len(llama3_attributes)} attributes\")"
   ]
  },
  {
   "cell_type": "code",
   "execution_count": null,
   "id": "459fe0d6",
   "metadata": {},
   "outputs": [],
   "source": []
  },
  {
   "cell_type": "code",
   "execution_count": null,
   "id": "0b315e3c",
   "metadata": {},
   "outputs": [],
   "source": []
  }
 ],
 "metadata": {
  "kernelspec": {
   "display_name": "Python 3 (ipykernel)",
   "language": "python",
   "name": "python3"
  },
  "language_info": {
   "codemirror_mode": {
    "name": "ipython",
    "version": 3
   },
   "file_extension": ".py",
   "mimetype": "text/x-python",
   "name": "python",
   "nbconvert_exporter": "python",
   "pygments_lexer": "ipython3",
   "version": "3.9.15"
  }
 },
 "nbformat": 4,
 "nbformat_minor": 5
}
