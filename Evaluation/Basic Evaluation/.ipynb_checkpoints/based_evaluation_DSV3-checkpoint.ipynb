{
 "cells": [
  {
   "cell_type": "code",
   "execution_count": 1,
   "id": "fda93dbf",
   "metadata": {},
   "outputs": [
    {
     "ename": "TypeError",
     "evalue": "string indices must be integers",
     "output_type": "error",
     "traceback": [
      "\u001b[1;31m---------------------------------------------------------------------------\u001b[0m",
      "\u001b[1;31mTypeError\u001b[0m                                 Traceback (most recent call last)",
      "\u001b[1;32m~\\AppData\\Local\\Temp\\ipykernel_6032\\2893116718.py\u001b[0m in \u001b[0;36m<module>\u001b[1;34m\u001b[0m\n\u001b[0;32m     19\u001b[0m \u001b[1;33m\u001b[0m\u001b[0m\n\u001b[0;32m     20\u001b[0m \u001b[0mground_truth\u001b[0m \u001b[1;33m=\u001b[0m \u001b[0mnormalize\u001b[0m\u001b[1;33m(\u001b[0m\u001b[0mground_truth\u001b[0m\u001b[1;33m)\u001b[0m\u001b[1;33m\u001b[0m\u001b[1;33m\u001b[0m\u001b[0m\n\u001b[1;32m---> 21\u001b[1;33m \u001b[0mmodel_output_path_DSV3\u001b[0m \u001b[1;33m=\u001b[0m \u001b[0mnormalize\u001b[0m\u001b[1;33m(\u001b[0m\u001b[0mmodel_output_path_DSV3\u001b[0m\u001b[1;33m)\u001b[0m\u001b[1;33m\u001b[0m\u001b[1;33m\u001b[0m\u001b[0m\n\u001b[0m",
      "\u001b[1;32m~\\AppData\\Local\\Temp\\ipykernel_6032\\2893116718.py\u001b[0m in \u001b[0;36mnormalize\u001b[1;34m(data)\u001b[0m\n\u001b[0;32m     15\u001b[0m \u001b[1;31m# Normalize attribute names\u001b[0m\u001b[1;33m\u001b[0m\u001b[1;33m\u001b[0m\u001b[0m\n\u001b[0;32m     16\u001b[0m \u001b[1;32mdef\u001b[0m \u001b[0mnormalize\u001b[0m\u001b[1;33m(\u001b[0m\u001b[0mdata\u001b[0m\u001b[1;33m)\u001b[0m\u001b[1;33m:\u001b[0m\u001b[1;33m\u001b[0m\u001b[1;33m\u001b[0m\u001b[0m\n\u001b[1;32m---> 17\u001b[1;33m     \u001b[0mdata\u001b[0m\u001b[1;33m[\u001b[0m\u001b[1;34m\"Attribute\"\u001b[0m\u001b[1;33m]\u001b[0m \u001b[1;33m=\u001b[0m \u001b[0mdata\u001b[0m\u001b[1;33m[\u001b[0m\u001b[1;34m\"Attribute\"\u001b[0m\u001b[1;33m]\u001b[0m\u001b[1;33m.\u001b[0m\u001b[0mstr\u001b[0m\u001b[1;33m.\u001b[0m\u001b[0mlower\u001b[0m\u001b[1;33m(\u001b[0m\u001b[1;33m)\u001b[0m\u001b[1;33m.\u001b[0m\u001b[0mstr\u001b[0m\u001b[1;33m.\u001b[0m\u001b[0mstrip\u001b[0m\u001b[1;33m(\u001b[0m\u001b[1;33m)\u001b[0m\u001b[1;33m\u001b[0m\u001b[1;33m\u001b[0m\u001b[0m\n\u001b[0m\u001b[0;32m     18\u001b[0m     \u001b[1;32mreturn\u001b[0m \u001b[0mdata\u001b[0m\u001b[1;33m\u001b[0m\u001b[1;33m\u001b[0m\u001b[0m\n\u001b[0;32m     19\u001b[0m \u001b[1;33m\u001b[0m\u001b[0m\n",
      "\u001b[1;31mTypeError\u001b[0m: string indices must be integers"
     ]
    }
   ],
   "source": [
    "import pandas as pd\n",
    "\n",
    "# Example data (replace with actual file paths)\n",
    "ground_truth_path = \"ground_truth.xlsx\"\n",
    "model_output_path_DSV3 = \"DeepSeekV3_raw_Results.csv\"\n",
    "\n",
    "\n",
    "\n",
    "# Load data\n",
    "ground_truth = pd.read_excel(ground_truth_path)\n",
    "model_output_DSV3 = pd.read_csv(model_output_path_DSV3)\n",
    "\n",
    "\n",
    "\n",
    "# Normalize attribute names\n",
    "def normalize(data):\n",
    "    data[\"Attribute\"] = data[\"Attribute\"].str.lower().str.strip()\n",
    "    return data\n",
    "\n",
    "ground_truth = normalize(ground_truth)\n",
    "model_output_path_DSV3 = normalize(model_output_path_DSV3)\n"
   ]
  },
  {
   "cell_type": "code",
   "execution_count": 2,
   "id": "28f79000",
   "metadata": {},
   "outputs": [],
   "source": [
    "# Identify true positives, false negatives, and false positives\n",
    "true_positives_dsv3 = model_output_gpt4[model_output_path_DSV3[\"Attribute\"].isin(ground_truth[\"Attribute\"])]\n",
    "false_negatives_dsv3 = ground_truth[~ground_truth[\"Attribute\"].isin(model_output_path_DSV3[\"Attribute\"])]\n",
    "false_positives_dsv3 = model_output_path_DSV3[~model_output_path_DSV3[\"Attribute\"].isin(ground_truth[\"Attribute\"])]"
   ]
  },
  {
   "cell_type": "code",
   "execution_count": 3,
   "id": "4d7833a8",
   "metadata": {},
   "outputs": [
    {
     "name": "stdout",
     "output_type": "stream",
     "text": [
      "Precision_gpt4: 0.05\n",
      "Recall_gpt4: 0.59\n",
      "F1-Score_gpt4: 0.09\n",
      "Coverage_gpt4: 15.05\n"
     ]
    }
   ],
   "source": [
    "# Calculate metrics\n",
    "precision_dsv3 = len(true_positives_dsv3 ) / (len(true_positives_dsv3 ) + len(false_positives_dsv3)) if len(true_positives_dsv3) + len(false_positives_dsv3) > 0 else 0\n",
    "recall_dsv3 = len(true_positives_dsv3) / (len(true_positives_dsv3) + len(false_negatives_dsv3)) if len(true_positives_dsv3) + len(false_negatives_dsv3) > 0 else 0\n",
    "f1_score_dsv3 = 2 * (precision_dsv3 * recall_dsv3) / (precision_dsv3+ recall_dsv3) if precision_dsv3 + recall_dsv3 > 0 else 0\n",
    "coverage_dsv3 = model_output_DSV3[\"Attribute\"].nunique() / ground_truth[\"Attribute\"].nunique()\n",
    "\n",
    "print(f\"Precision_dsv3: {precision_dsv3:.2f}\")\n",
    "print(f\"Recall_dsv3: {recall_dsv3:.2f}\")\n",
    "print(f\"F1-Score_dsv3: {f1_score_dsv3:.2f}\")\n",
    "print(f\"Coverage_dsv3: {coverage_dsv3:.2f}\")"
   ]
  },
  {
   "cell_type": "code",
   "execution_count": 4,
   "id": "7d4d356b",
   "metadata": {},
   "outputs": [
    {
     "name": "stdout",
     "output_type": "stream",
     "text": [
      "   Category      Attribute  Count_gt  Percentage_gt  Count_model  \\\n",
      "0   grocery   packing_type        32       6.694561            1   \n",
      "1   grocery   packing_type        32       6.694561            1   \n",
      "2   grocery         flavor        23       4.811715           10   \n",
      "3   grocery         flavor        23       4.811715            1   \n",
      "4   grocery   product_type        19       3.974895            1   \n",
      "5   grocery          brand        57      11.924686           24   \n",
      "6   grocery         source        57      11.924686            1   \n",
      "7   grocery        organic         2       0.418410            1   \n",
      "8   grocery     ingredient        14       2.928870            1   \n",
      "9   grocery          color         1       0.209205            1   \n",
      "10  grocery         series        28       5.857741            3   \n",
      "11     home       material       171       8.901614           77   \n",
      "12     home       material       171       8.901614            1   \n",
      "13     home         height        57       2.967205           12   \n",
      "14     home       capacity        77       4.008329           22   \n",
      "15     home          gauge        40       2.082249            6   \n",
      "16     home   product_type       102       5.309735            2   \n",
      "17     home         length        56       2.915148           15   \n",
      "18     home          shape        28       1.457574            8   \n",
      "19     home        voltage        26       1.353462           14   \n",
      "20     home          color        74       3.852160           49   \n",
      "21     home           base        35       1.821968            7   \n",
      "22     home        shelves        35       1.821968            8   \n",
      "23     home         splash        35       1.821968            3   \n",
      "24     home          width        75       3.904217           23   \n",
      "25     home          depth        30       1.561687            9   \n",
      "26     home   manufacturer       200      10.411244           10   \n",
      "27     home  certification        77       4.008329           29   \n",
      "28     home       diameter        23       1.197293            4   \n",
      "29     home           amps        15       0.780843            3   \n",
      "30     home       shipping         8       0.416450            1   \n",
      "31     home        made_in         7       0.364394            1   \n",
      "32     home       warranty        17       0.884956           10   \n",
      "33     home      stackable         2       0.104112            2   \n",
      "34     home            btu        22       1.145237            6   \n",
      "35  jewelry   product_type        51       6.684142            1   \n",
      "36  jewelry   product_type        51       6.684142            1   \n",
      "37  jewelry         gender        59       7.732634            4   \n",
      "38  jewelry          brand        96      12.581913           50   \n",
      "39  jewelry   model_number       130      17.038008            1   \n",
      "40  jewelry     collection        37       4.849279           21   \n",
      "41  jewelry          width         2       0.262123            6   \n",
      "42   office       capacity        45       2.101822            7   \n",
      "43   office   product_type        69       3.222793            1   \n",
      "44   office   product_type        69       3.222793            1   \n",
      "45   office         length        37       1.728164            3   \n",
      "46   office       material       118       5.511443           46   \n",
      "47   office          brand       244      11.396544           71   \n",
      "48   office          brand       244      11.396544            2   \n",
      "49   office        closure        31       1.447922            1   \n",
      "50   office         colors       191       8.921065            4   \n",
      "51   office       mounting        17       0.794021            1   \n",
      "52   office        binding        22       1.027557            4   \n",
      "53   office         source       247      11.536665            1   \n",
      "54   office       warranty         5       0.233536            6   \n",
      "55   office       shipping         2       0.093414            1   \n",
      "56   office  compatibility        22       1.027557           23   \n",
      "57   office  compatibility        22       1.027557            1   \n",
      "58   office          store        23       1.074264            2   \n",
      "\n",
      "    Percentage_model  Deviation (Count)  Deviation (Percentage)  \n",
      "0               0.25                -31               -6.444561  \n",
      "1               0.25                -31               -6.444561  \n",
      "2               2.45                -13               -2.361715  \n",
      "3               0.25                -22               -4.561715  \n",
      "4               0.25                -18               -3.724895  \n",
      "5               5.88                -33               -6.044686  \n",
      "6               0.25                -56              -11.674686  \n",
      "7               0.25                 -1               -0.168410  \n",
      "8               0.25                -13               -2.678870  \n",
      "9               0.25                  0                0.040795  \n",
      "10              0.74                -25               -5.117741  \n",
      "11              4.14                -94               -4.761614  \n",
      "12              0.05               -170               -8.851614  \n",
      "13              0.64                -45               -2.327205  \n",
      "14              1.18                -55               -2.828329  \n",
      "15              0.32                -34               -1.762249  \n",
      "16              0.11               -100               -5.199735  \n",
      "17              0.81                -41               -2.105148  \n",
      "18              0.43                -20               -1.027574  \n",
      "19              0.75                -12               -0.603462  \n",
      "20              2.63                -25               -1.222160  \n",
      "21              0.38                -28               -1.441968  \n",
      "22              0.43                -27               -1.391968  \n",
      "23              0.16                -32               -1.661968  \n",
      "24              1.24                -52               -2.664217  \n",
      "25              0.48                -21               -1.081687  \n",
      "26              0.54               -190               -9.871244  \n",
      "27              1.56                -48               -2.448329  \n",
      "28              0.21                -19               -0.987293  \n",
      "29              0.16                -12               -0.620843  \n",
      "30              0.05                 -7               -0.366450  \n",
      "31              0.05                 -6               -0.314394  \n",
      "32              0.54                 -7               -0.344956  \n",
      "33              0.11                  0                0.005888  \n",
      "34              0.32                -16               -0.825237  \n",
      "35              0.15                -50               -6.534142  \n",
      "36              0.15                -50               -6.534142  \n",
      "37              0.60                -55               -7.132634  \n",
      "38              7.52                -46               -5.061913  \n",
      "39              0.15               -129              -16.888008  \n",
      "40              3.16                -16               -1.689279  \n",
      "41              0.90                  4                0.637877  \n",
      "42              0.41                -38               -1.691822  \n",
      "43              0.06                -68               -3.162793  \n",
      "44              0.06                -68               -3.162793  \n",
      "45              0.18                -34               -1.548164  \n",
      "46              2.72                -72               -2.791443  \n",
      "47              4.20               -173               -7.196544  \n",
      "48              0.12               -242              -11.276544  \n",
      "49              0.06                -30               -1.387922  \n",
      "50              0.24               -187               -8.681065  \n",
      "51              0.06                -16               -0.734021  \n",
      "52              0.24                -18               -0.787557  \n",
      "53              0.06               -246              -11.476665  \n",
      "54              0.36                  1                0.126464  \n",
      "55              0.06                 -1               -0.033414  \n",
      "56              1.36                  1                0.332443  \n",
      "57              0.06                -21               -0.967557  \n",
      "58              0.12                -21               -0.954264  \n"
     ]
    }
   ],
   "source": [
    "# Merge datasets for comparison\n",
    "comparison_dsv3 = ground_truth.merge(model_output_dsv3, on=[\"Category\", \"Attribute\"], suffixes=(\"_gt\", \"_model\"))\n",
    "\n",
    "# Calculate deviations\n",
    "comparison_dsv3[\"Deviation (Count)\"] = comparison_dsv3[\"Count_model\"] - comparison_dsv3[\"Count_gt\"]\n",
    "comparison_dsv3[\"Deviation (Percentage)\"] = comparison_dsv3[\"Percentage_model\"] - comparison_dsv3[\"Percentage_gt\"]\n",
    "\n",
    "print(comparison_dsv3)"
   ]
  },
  {
   "cell_type": "markdown",
   "id": "aa98c61a",
   "metadata": {},
   "source": [
    "gpt4omini"
   ]
  },
  {
   "cell_type": "code",
   "execution_count": 5,
   "id": "8a89a5aa",
   "metadata": {},
   "outputs": [],
   "source": [
    "# Identify true positives, false negatives, and false positives\n",
    "true_positives_gpt4omini = model_output_gpt4omini[model_output_gpt4omini[\"Attribute\"].isin(ground_truth[\"Attribute\"])]\n",
    "false_negatives_gpt4omini = ground_truth[~ground_truth[\"Attribute\"].isin(model_output_gpt4omini[\"Attribute\"])]\n",
    "false_positives_gpt4omini = model_output_gpt4omini[~model_output_gpt4omini[\"Attribute\"].isin(ground_truth[\"Attribute\"])]"
   ]
  },
  {
   "cell_type": "code",
   "execution_count": 6,
   "id": "bdae7a85",
   "metadata": {},
   "outputs": [
    {
     "name": "stdout",
     "output_type": "stream",
     "text": [
      "Precision_gpt4omini: 0.18\n",
      "Recall_gpt4omini: 0.15\n",
      "F1-Score_gpt4omini: 0.16\n",
      "Coverage_gpt4omini: 0.82\n"
     ]
    }
   ],
   "source": [
    "# Calculate metrics\n",
    "precision_gpt4omini = len(true_positives_gpt4omini) / (len(true_positives_gpt4omini) + len(false_positives_gpt4omini)) if len(true_positives_gpt4omini) + len(false_positives_gpt4omini) > 0 else 0\n",
    "recall_gpt4omini = len(true_positives_gpt4omini) / (len(true_positives_gpt4omini) + len(false_negatives_gpt4omini)) if len(true_positives_gpt4omini) + len(false_negatives_gpt4omini) > 0 else 0\n",
    "f1_score_gpt4omini = 2 * (precision_gpt4omini * recall_gpt4omini) / (precision_gpt4omini + recall_gpt4omini) if precision_gpt4omini + recall_gpt4omini > 0 else 0\n",
    "coverage_gpt4omini = model_output_gpt4omini[\"Attribute\"].nunique() / ground_truth[\"Attribute\"].nunique()\n",
    "\n",
    "print(f\"Precision_gpt4omini: {precision_gpt4omini:.2f}\")\n",
    "print(f\"Recall_gpt4omini: {recall_gpt4omini:.2f}\")\n",
    "print(f\"F1-Score_gpt4omini: {f1_score_gpt4omini:.2f}\")\n",
    "print(f\"Coverage_gpt4omini: {coverage_gpt4omini:.2f}\")"
   ]
  },
  {
   "cell_type": "code",
   "execution_count": 7,
   "id": "1eed3b47",
   "metadata": {},
   "outputs": [
    {
     "name": "stdout",
     "output_type": "stream",
     "text": [
      "   Category      Attribute  Count_gt  Percentage_gt  Count_model  \\\n",
      "0   grocery          brand        57      11.924686            1   \n",
      "1      home       material       171       8.901614            1   \n",
      "2      home       capacity        77       4.008329            3   \n",
      "3      home          color        74       3.852160            1   \n",
      "4      home  certification        77       4.008329            1   \n",
      "5      home            btu        22       1.145237            1   \n",
      "6   jewelry   product_type        51       6.684142            1   \n",
      "7   jewelry          brand        96      12.581913            1   \n",
      "8   jewelry   model_number       130      17.038008            2   \n",
      "9    office       capacity        45       2.101822            2   \n",
      "10   office       material       118       5.511443            1   \n",
      "11   office  pack_quantity        93       4.343765            1   \n",
      "12   office          brand       244      11.396544            7   \n",
      "13   office   paper_weight        19       0.887436            1   \n",
      "\n",
      "    Percentage_model  Deviation (Count)  Deviation (Percentage)  \n",
      "0               5.26                -56               -6.664686  \n",
      "1               1.96               -170               -6.941614  \n",
      "2               5.88                -74                1.871671  \n",
      "3               1.96                -73               -1.892160  \n",
      "4               1.96                -76               -2.048329  \n",
      "5               1.96                -21                0.814763  \n",
      "6               6.25                -50               -0.434142  \n",
      "7               6.25                -95               -6.331913  \n",
      "8              12.50               -128               -4.538008  \n",
      "9               2.86                -43                0.758178  \n",
      "10              1.43               -117               -4.081443  \n",
      "11              1.43                -92               -2.913765  \n",
      "12             10.00               -237               -1.396544  \n",
      "13              1.43                -18                0.542564  \n"
     ]
    }
   ],
   "source": [
    "# Merge datasets for comparison\n",
    "comparison_gpt4omini = ground_truth.merge(model_output_gpt4omini, on=[\"Category\", \"Attribute\"], suffixes=(\"_gt\", \"_model\"))\n",
    "\n",
    "# Calculate deviations\n",
    "comparison_gpt4omini[\"Deviation (Count)\"] = comparison_gpt4omini[\"Count_model\"] - comparison_gpt4omini[\"Count_gt\"]\n",
    "comparison_gpt4omini[\"Deviation (Percentage)\"] = comparison_gpt4omini[\"Percentage_model\"] - comparison_gpt4omini[\"Percentage_gt\"]\n",
    "\n",
    "print(comparison_gpt4omini)"
   ]
  },
  {
   "cell_type": "markdown",
   "id": "c20ccdf1",
   "metadata": {},
   "source": [
    "llama3.1"
   ]
  },
  {
   "cell_type": "code",
   "execution_count": 8,
   "id": "91e3a37c",
   "metadata": {},
   "outputs": [],
   "source": [
    "# Identify true positives, false negatives, and false positives\n",
    "true_positives_llama31 = model_output_llama31[model_output_llama31[\"Attribute\"].isin(ground_truth[\"Attribute\"])]\n",
    "false_negatives_llama31 = ground_truth[~ground_truth[\"Attribute\"].isin(model_output_llama31[\"Attribute\"])]\n",
    "false_positives_llama31 = model_output_llama31[~model_output_llama31[\"Attribute\"].isin(ground_truth[\"Attribute\"])]"
   ]
  },
  {
   "cell_type": "code",
   "execution_count": 9,
   "id": "10c97223",
   "metadata": {},
   "outputs": [
    {
     "name": "stdout",
     "output_type": "stream",
     "text": [
      "Precision_llama31: 0.04\n",
      "Recall_llama31: 0.42\n",
      "F1-Score_llama31: 0.08\n",
      "Coverage_llama31: 12.02\n"
     ]
    }
   ],
   "source": [
    "# Calculate metrics\n",
    "precision_llama31 = len(true_positives_llama31) / (len(true_positives_llama31) + len(false_positives_llama31)) if len(true_positives_llama31) + len(false_positives_llama31) > 0 else 0\n",
    "recall_llama31 = len(true_positives_llama31) / (len(true_positives_llama31) + len(false_negatives_llama31)) if len(true_positives_llama31) + len(false_negatives_llama31) > 0 else 0\n",
    "f1_score_llama31 = 2 * (precision_llama31 * recall_llama31) / (precision_llama31 + recall_llama31) if precision_llama31 + recall_llama31 > 0 else 0\n",
    "coverage_llama31 = model_output_llama31[\"Attribute\"].nunique() / ground_truth[\"Attribute\"].nunique()\n",
    "\n",
    "print(f\"Precision_llama31: {precision_llama31:.2f}\")\n",
    "print(f\"Recall_llama31: {recall_llama31:.2f}\")\n",
    "print(f\"F1-Score_llama31: {f1_score_llama31:.2f}\")\n",
    "print(f\"Coverage_llama31: {coverage_llama31:.2f}\")"
   ]
  },
  {
   "cell_type": "code",
   "execution_count": 10,
   "id": "32b39684",
   "metadata": {},
   "outputs": [
    {
     "name": "stdout",
     "output_type": "stream",
     "text": [
      "   Category       Attribute  Count_gt  Percentage_gt  Count_model  \\\n",
      "0   grocery          flavor        23       4.811715            6   \n",
      "1   grocery           brand        57      11.924686           16   \n",
      "2   grocery           color         1       0.209205            1   \n",
      "3   grocery          series        28       5.857741            3   \n",
      "4      home        material       171       8.901614           73   \n",
      "5      home          height        57       2.967205           11   \n",
      "6      home        capacity        77       4.008329           30   \n",
      "7      home           gauge        40       2.082249            6   \n",
      "8      home          length        56       2.915148           19   \n",
      "9      home           shape        28       1.457574           10   \n",
      "10     home         voltage        26       1.353462            8   \n",
      "11     home           color        74       3.852160           45   \n",
      "12     home           width        75       3.904217           57   \n",
      "13     home           depth        30       1.561687           20   \n",
      "14     home    manufacturer       200      10.411244            5   \n",
      "15     home   certification        77       4.008329           28   \n",
      "16     home        diameter        23       1.197293            5   \n",
      "17     home            amps        15       0.780843            2   \n",
      "18     home        warranty        17       0.884956           16   \n",
      "19     home       stackable         2       0.104112            3   \n",
      "20  jewelry          gender        59       7.732634           26   \n",
      "21  jewelry           brand        96      12.581913           62   \n",
      "22  jewelry      collection        37       4.849279           26   \n",
      "23  jewelry           width         2       0.262123            4   \n",
      "24   office        capacity        45       2.101822            9   \n",
      "25   office          length        37       1.728164            1   \n",
      "26   office        material       118       5.511443           33   \n",
      "27   office           width        52       2.428772            4   \n",
      "28   office          height        14       0.653900            4   \n",
      "29   office           depth        14       0.653900            1   \n",
      "30   office           brand       244      11.396544           91   \n",
      "31   office          colors       191       8.921065            2   \n",
      "32   office         binding        22       1.027557            1   \n",
      "33   office          source       247      11.536665            1   \n",
      "34   office        warranty         5       0.233536            1   \n",
      "35   office  sustainability        21       0.980850            1   \n",
      "36   office        shipping         2       0.093414            1   \n",
      "37   office    authenticity        17       0.794021            8   \n",
      "38   office   compatibility        22       1.027557           35   \n",
      "\n",
      "    Percentage_model  Deviation (Count)  Deviation (Percentage)  \n",
      "0           2.352941                -17               -2.458774  \n",
      "1           6.274510                -41               -5.650176  \n",
      "2           0.392157                  0                0.182952  \n",
      "3           1.176471                -25               -4.681270  \n",
      "4           4.126625                -98               -4.774989  \n",
      "5           0.621820                -46               -2.345384  \n",
      "6           1.695873                -47               -2.312456  \n",
      "7           0.339175                -34               -1.743074  \n",
      "8           1.074053                -37               -1.841095  \n",
      "9           0.565291                -18               -0.892283  \n",
      "10          0.452233                -18               -0.901229  \n",
      "11          2.543810                -29               -1.308350  \n",
      "12          3.222159                -18               -0.682057  \n",
      "13          1.130582                -10               -0.431104  \n",
      "14          0.282646               -195              -10.128599  \n",
      "15          1.582815                -49               -2.425514  \n",
      "16          0.282646                -18               -0.914648  \n",
      "17          0.113058                -13               -0.667785  \n",
      "18          0.904466                 -1                0.019510  \n",
      "19          0.169587                  1                0.065475  \n",
      "20          5.128205                -33               -2.604429  \n",
      "21         12.228797                -34               -0.353117  \n",
      "22          5.128205                -11                0.278926  \n",
      "23          0.788955                  2                0.526831  \n",
      "24          0.715990                -36               -1.385831  \n",
      "25          0.079554                -36               -1.648610  \n",
      "26          2.625298                -85               -2.886145  \n",
      "27          0.318218                -48               -2.110554  \n",
      "28          0.318218                -10               -0.335682  \n",
      "29          0.079554                -13               -0.574346  \n",
      "30          7.239459               -153               -4.157085  \n",
      "31          0.159109               -189               -8.761956  \n",
      "32          0.079554                -21               -0.948003  \n",
      "33          0.079554               -246              -11.457111  \n",
      "34          0.079554                 -4               -0.153981  \n",
      "35          0.079554                -20               -0.901296  \n",
      "36          0.079554                 -1               -0.013860  \n",
      "37          0.636436                 -9               -0.157586  \n",
      "38          2.784407                 13                1.756850  \n"
     ]
    }
   ],
   "source": [
    "# Merge datasets for comparison\n",
    "comparison_llama31 = ground_truth.merge(model_output_llama31, on=[\"Category\", \"Attribute\"], suffixes=(\"_gt\", \"_model\"))\n",
    "\n",
    "# Calculate deviations\n",
    "comparison_llama31[\"Deviation (Count)\"] = comparison_llama31[\"Count_model\"] - comparison_llama31[\"Count_gt\"]\n",
    "comparison_llama31[\"Deviation (Percentage)\"] = comparison_llama31[\"Percentage_model\"] - comparison_llama31[\"Percentage_gt\"]\n",
    "\n",
    "print(comparison_llama31)"
   ]
  },
  {
   "cell_type": "code",
   "execution_count": null,
   "id": "fd41b776",
   "metadata": {},
   "outputs": [],
   "source": []
  }
 ],
 "metadata": {
  "kernelspec": {
   "display_name": "Python 3 (ipykernel)",
   "language": "python",
   "name": "python3"
  },
  "language_info": {
   "codemirror_mode": {
    "name": "ipython",
    "version": 3
   },
   "file_extension": ".py",
   "mimetype": "text/x-python",
   "name": "python",
   "nbconvert_exporter": "python",
   "pygments_lexer": "ipython3",
   "version": "3.9.15"
  }
 },
 "nbformat": 4,
 "nbformat_minor": 5
}
