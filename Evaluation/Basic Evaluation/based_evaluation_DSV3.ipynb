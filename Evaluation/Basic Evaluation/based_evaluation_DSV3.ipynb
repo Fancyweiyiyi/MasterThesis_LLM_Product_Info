{
 "cells": [
  {
   "cell_type": "code",
   "execution_count": 2,
   "id": "fda93dbf",
   "metadata": {},
   "outputs": [],
   "source": [
    "import pandas as pd\n",
    "\n",
    "# Example data (replace with actual file paths)\n",
    "ground_truth_path = \"ground_truth.xlsx\"\n",
    "model_output_path_dsv3 = \"DeepSeekV3_raw_Results.csv\"\n",
    "\n",
    "\n",
    "\n",
    "# Load data\n",
    "ground_truth = pd.read_excel(ground_truth_path)\n",
    "model_output_dsv3 = pd.read_csv(model_output_path_dsv3)\n",
    "\n",
    "\n",
    "\n",
    "# Normalize attribute names\n",
    "def normalize(data):\n",
    "    data[\"Attribute\"] = data[\"Attribute\"].str.lower().str.strip()\n",
    "    return data\n",
    "\n",
    "ground_truth = normalize(ground_truth)\n",
    "model_output_dsv3 = normalize(model_output_dsv3)\n"
   ]
  },
  {
   "cell_type": "code",
   "execution_count": 3,
   "id": "28f79000",
   "metadata": {},
   "outputs": [],
   "source": [
    "# Identify true positives, false negatives, and false positives\n",
    "true_positives_dsv3 = model_output_dsv3[model_output_dsv3[\"Attribute\"].isin(ground_truth[\"Attribute\"])]\n",
    "false_negatives_dsv3 = ground_truth[~ground_truth[\"Attribute\"].isin(model_output_dsv3[\"Attribute\"])]\n",
    "false_positives_dsv3 = model_output_dsv3[~model_output_dsv3[\"Attribute\"].isin(ground_truth[\"Attribute\"])]"
   ]
  },
  {
   "cell_type": "code",
   "execution_count": 4,
   "id": "4d7833a8",
   "metadata": {},
   "outputs": [
    {
     "name": "stdout",
     "output_type": "stream",
     "text": [
      "Precision_dsv3: 0.09\n",
      "Recall_dsv3: 0.61\n",
      "F1-Score_dsv3: 0.16\n",
      "Coverage_dsv3: 8.30\n"
     ]
    }
   ],
   "source": [
    "# Calculate metrics\n",
    "precision_dsv3 = len(true_positives_dsv3 ) / (len(true_positives_dsv3 ) + len(false_positives_dsv3)) if len(true_positives_dsv3) + len(false_positives_dsv3) > 0 else 0\n",
    "recall_dsv3 = len(true_positives_dsv3) / (len(true_positives_dsv3) + len(false_negatives_dsv3)) if len(true_positives_dsv3) + len(false_negatives_dsv3) > 0 else 0\n",
    "f1_score_dsv3 = 2 * (precision_dsv3 * recall_dsv3) / (precision_dsv3+ recall_dsv3) if precision_dsv3 + recall_dsv3 > 0 else 0\n",
    "coverage_dsv3 = model_output_dsv3[\"Attribute\"].nunique() / ground_truth[\"Attribute\"].nunique()\n",
    "\n",
    "print(f\"Precision_dsv3: {precision_dsv3:.2f}\")\n",
    "print(f\"Recall_dsv3: {recall_dsv3:.2f}\")\n",
    "print(f\"F1-Score_dsv3: {f1_score_dsv3:.2f}\")\n",
    "print(f\"Coverage_dsv3: {coverage_dsv3:.2f}\")"
   ]
  },
  {
   "cell_type": "code",
   "execution_count": 5,
   "id": "7d4d356b",
   "metadata": {},
   "outputs": [
    {
     "name": "stdout",
     "output_type": "stream",
     "text": [
      "   Category       Attribute  Count_gt  Percentage_gt  Count_model  \\\n",
      "0   grocery    packing_type        32       6.694561            5   \n",
      "1   grocery          flavor        23       4.811715           12   \n",
      "2   grocery    product_type        19       3.974895            4   \n",
      "3   grocery           brand        57      11.924686           42   \n",
      "4   grocery         organic         2       0.418410            1   \n",
      "..      ...             ...       ...            ...          ...   \n",
      "64   office        warranty         5       0.233536            5   \n",
      "65   office         made_in         3       0.140121            1   \n",
      "66   office  sustainability        21       0.980850            1   \n",
      "67   office   compatibility        22       1.027557           44   \n",
      "68   office   compatibility        22       1.027557            1   \n",
      "\n",
      "    Percentage_model  Deviation (Count)  Deviation (Percentage)  \n",
      "0               1.40                -27               -5.294561  \n",
      "1               3.35                -11               -1.461715  \n",
      "2               1.12                -15               -2.854895  \n",
      "3              11.73                -15               -0.194686  \n",
      "4               0.28                 -1               -0.138410  \n",
      "..               ...                ...                     ...  \n",
      "64              0.29                  0                0.056464  \n",
      "65              0.06                 -2               -0.080121  \n",
      "66              0.06                -20               -0.920850  \n",
      "67              2.55                 22                1.522443  \n",
      "68              0.06                -21               -0.967557  \n",
      "\n",
      "[69 rows x 8 columns]\n"
     ]
    }
   ],
   "source": [
    "# Merge datasets for comparison\n",
    "comparison_dsv3 = ground_truth.merge(model_output_dsv3, on=[\"Category\", \"Attribute\"], suffixes=(\"_gt\", \"_model\"))\n",
    "\n",
    "# Calculate deviations\n",
    "comparison_dsv3[\"Deviation (Count)\"] = comparison_dsv3[\"Count_model\"] - comparison_dsv3[\"Count_gt\"]\n",
    "comparison_dsv3[\"Deviation (Percentage)\"] = comparison_dsv3[\"Percentage_model\"] - comparison_dsv3[\"Percentage_gt\"]\n",
    "\n",
    "print(comparison_dsv3)"
   ]
  },
  {
   "cell_type": "markdown",
   "id": "aa98c61a",
   "metadata": {},
   "source": [
    "gpt4omini"
   ]
  },
  {
   "cell_type": "code",
   "execution_count": 5,
   "id": "8a89a5aa",
   "metadata": {},
   "outputs": [],
   "source": [
    "# Identify true positives, false negatives, and false positives\n",
    "true_positives_gpt4omini = model_output_gpt4omini[model_output_gpt4omini[\"Attribute\"].isin(ground_truth[\"Attribute\"])]\n",
    "false_negatives_gpt4omini = ground_truth[~ground_truth[\"Attribute\"].isin(model_output_gpt4omini[\"Attribute\"])]\n",
    "false_positives_gpt4omini = model_output_gpt4omini[~model_output_gpt4omini[\"Attribute\"].isin(ground_truth[\"Attribute\"])]"
   ]
  },
  {
   "cell_type": "code",
   "execution_count": 6,
   "id": "bdae7a85",
   "metadata": {},
   "outputs": [
    {
     "name": "stdout",
     "output_type": "stream",
     "text": [
      "Precision_gpt4omini: 0.18\n",
      "Recall_gpt4omini: 0.15\n",
      "F1-Score_gpt4omini: 0.16\n",
      "Coverage_gpt4omini: 0.82\n"
     ]
    }
   ],
   "source": [
    "# Calculate metrics\n",
    "precision_gpt4omini = len(true_positives_gpt4omini) / (len(true_positives_gpt4omini) + len(false_positives_gpt4omini)) if len(true_positives_gpt4omini) + len(false_positives_gpt4omini) > 0 else 0\n",
    "recall_gpt4omini = len(true_positives_gpt4omini) / (len(true_positives_gpt4omini) + len(false_negatives_gpt4omini)) if len(true_positives_gpt4omini) + len(false_negatives_gpt4omini) > 0 else 0\n",
    "f1_score_gpt4omini = 2 * (precision_gpt4omini * recall_gpt4omini) / (precision_gpt4omini + recall_gpt4omini) if precision_gpt4omini + recall_gpt4omini > 0 else 0\n",
    "coverage_gpt4omini = model_output_gpt4omini[\"Attribute\"].nunique() / ground_truth[\"Attribute\"].nunique()\n",
    "\n",
    "print(f\"Precision_gpt4omini: {precision_gpt4omini:.2f}\")\n",
    "print(f\"Recall_gpt4omini: {recall_gpt4omini:.2f}\")\n",
    "print(f\"F1-Score_gpt4omini: {f1_score_gpt4omini:.2f}\")\n",
    "print(f\"Coverage_gpt4omini: {coverage_gpt4omini:.2f}\")"
   ]
  },
  {
   "cell_type": "code",
   "execution_count": 7,
   "id": "1eed3b47",
   "metadata": {},
   "outputs": [
    {
     "name": "stdout",
     "output_type": "stream",
     "text": [
      "   Category      Attribute  Count_gt  Percentage_gt  Count_model  \\\n",
      "0   grocery          brand        57      11.924686            1   \n",
      "1      home       material       171       8.901614            1   \n",
      "2      home       capacity        77       4.008329            3   \n",
      "3      home          color        74       3.852160            1   \n",
      "4      home  certification        77       4.008329            1   \n",
      "5      home            btu        22       1.145237            1   \n",
      "6   jewelry   product_type        51       6.684142            1   \n",
      "7   jewelry          brand        96      12.581913            1   \n",
      "8   jewelry   model_number       130      17.038008            2   \n",
      "9    office       capacity        45       2.101822            2   \n",
      "10   office       material       118       5.511443            1   \n",
      "11   office  pack_quantity        93       4.343765            1   \n",
      "12   office          brand       244      11.396544            7   \n",
      "13   office   paper_weight        19       0.887436            1   \n",
      "\n",
      "    Percentage_model  Deviation (Count)  Deviation (Percentage)  \n",
      "0               5.26                -56               -6.664686  \n",
      "1               1.96               -170               -6.941614  \n",
      "2               5.88                -74                1.871671  \n",
      "3               1.96                -73               -1.892160  \n",
      "4               1.96                -76               -2.048329  \n",
      "5               1.96                -21                0.814763  \n",
      "6               6.25                -50               -0.434142  \n",
      "7               6.25                -95               -6.331913  \n",
      "8              12.50               -128               -4.538008  \n",
      "9               2.86                -43                0.758178  \n",
      "10              1.43               -117               -4.081443  \n",
      "11              1.43                -92               -2.913765  \n",
      "12             10.00               -237               -1.396544  \n",
      "13              1.43                -18                0.542564  \n"
     ]
    }
   ],
   "source": [
    "# Merge datasets for comparison\n",
    "comparison_gpt4omini = ground_truth.merge(model_output_gpt4omini, on=[\"Category\", \"Attribute\"], suffixes=(\"_gt\", \"_model\"))\n",
    "\n",
    "# Calculate deviations\n",
    "comparison_gpt4omini[\"Deviation (Count)\"] = comparison_gpt4omini[\"Count_model\"] - comparison_gpt4omini[\"Count_gt\"]\n",
    "comparison_gpt4omini[\"Deviation (Percentage)\"] = comparison_gpt4omini[\"Percentage_model\"] - comparison_gpt4omini[\"Percentage_gt\"]\n",
    "\n",
    "print(comparison_gpt4omini)"
   ]
  },
  {
   "cell_type": "markdown",
   "id": "c20ccdf1",
   "metadata": {},
   "source": [
    "llama3.1"
   ]
  },
  {
   "cell_type": "code",
   "execution_count": 8,
   "id": "91e3a37c",
   "metadata": {},
   "outputs": [],
   "source": [
    "# Identify true positives, false negatives, and false positives\n",
    "true_positives_llama31 = model_output_llama31[model_output_llama31[\"Attribute\"].isin(ground_truth[\"Attribute\"])]\n",
    "false_negatives_llama31 = ground_truth[~ground_truth[\"Attribute\"].isin(model_output_llama31[\"Attribute\"])]\n",
    "false_positives_llama31 = model_output_llama31[~model_output_llama31[\"Attribute\"].isin(ground_truth[\"Attribute\"])]"
   ]
  },
  {
   "cell_type": "code",
   "execution_count": 9,
   "id": "10c97223",
   "metadata": {},
   "outputs": [
    {
     "name": "stdout",
     "output_type": "stream",
     "text": [
      "Precision_llama31: 0.04\n",
      "Recall_llama31: 0.42\n",
      "F1-Score_llama31: 0.08\n",
      "Coverage_llama31: 12.02\n"
     ]
    }
   ],
   "source": [
    "# Calculate metrics\n",
    "precision_llama31 = len(true_positives_llama31) / (len(true_positives_llama31) + len(false_positives_llama31)) if len(true_positives_llama31) + len(false_positives_llama31) > 0 else 0\n",
    "recall_llama31 = len(true_positives_llama31) / (len(true_positives_llama31) + len(false_negatives_llama31)) if len(true_positives_llama31) + len(false_negatives_llama31) > 0 else 0\n",
    "f1_score_llama31 = 2 * (precision_llama31 * recall_llama31) / (precision_llama31 + recall_llama31) if precision_llama31 + recall_llama31 > 0 else 0\n",
    "coverage_llama31 = model_output_llama31[\"Attribute\"].nunique() / ground_truth[\"Attribute\"].nunique()\n",
    "\n",
    "print(f\"Precision_llama31: {precision_llama31:.2f}\")\n",
    "print(f\"Recall_llama31: {recall_llama31:.2f}\")\n",
    "print(f\"F1-Score_llama31: {f1_score_llama31:.2f}\")\n",
    "print(f\"Coverage_llama31: {coverage_llama31:.2f}\")"
   ]
  },
  {
   "cell_type": "code",
   "execution_count": 10,
   "id": "32b39684",
   "metadata": {},
   "outputs": [
    {
     "name": "stdout",
     "output_type": "stream",
     "text": [
      "   Category       Attribute  Count_gt  Percentage_gt  Count_model  \\\n",
      "0   grocery          flavor        23       4.811715            6   \n",
      "1   grocery           brand        57      11.924686           16   \n",
      "2   grocery           color         1       0.209205            1   \n",
      "3   grocery          series        28       5.857741            3   \n",
      "4      home        material       171       8.901614           73   \n",
      "5      home          height        57       2.967205           11   \n",
      "6      home        capacity        77       4.008329           30   \n",
      "7      home           gauge        40       2.082249            6   \n",
      "8      home          length        56       2.915148           19   \n",
      "9      home           shape        28       1.457574           10   \n",
      "10     home         voltage        26       1.353462            8   \n",
      "11     home           color        74       3.852160           45   \n",
      "12     home           width        75       3.904217           57   \n",
      "13     home           depth        30       1.561687           20   \n",
      "14     home    manufacturer       200      10.411244            5   \n",
      "15     home   certification        77       4.008329           28   \n",
      "16     home        diameter        23       1.197293            5   \n",
      "17     home            amps        15       0.780843            2   \n",
      "18     home        warranty        17       0.884956           16   \n",
      "19     home       stackable         2       0.104112            3   \n",
      "20  jewelry          gender        59       7.732634           26   \n",
      "21  jewelry           brand        96      12.581913           62   \n",
      "22  jewelry      collection        37       4.849279           26   \n",
      "23  jewelry           width         2       0.262123            4   \n",
      "24   office        capacity        45       2.101822            9   \n",
      "25   office          length        37       1.728164            1   \n",
      "26   office        material       118       5.511443           33   \n",
      "27   office           width        52       2.428772            4   \n",
      "28   office          height        14       0.653900            4   \n",
      "29   office           depth        14       0.653900            1   \n",
      "30   office           brand       244      11.396544           91   \n",
      "31   office          colors       191       8.921065            2   \n",
      "32   office         binding        22       1.027557            1   \n",
      "33   office          source       247      11.536665            1   \n",
      "34   office        warranty         5       0.233536            1   \n",
      "35   office  sustainability        21       0.980850            1   \n",
      "36   office        shipping         2       0.093414            1   \n",
      "37   office    authenticity        17       0.794021            8   \n",
      "38   office   compatibility        22       1.027557           35   \n",
      "\n",
      "    Percentage_model  Deviation (Count)  Deviation (Percentage)  \n",
      "0           2.352941                -17               -2.458774  \n",
      "1           6.274510                -41               -5.650176  \n",
      "2           0.392157                  0                0.182952  \n",
      "3           1.176471                -25               -4.681270  \n",
      "4           4.126625                -98               -4.774989  \n",
      "5           0.621820                -46               -2.345384  \n",
      "6           1.695873                -47               -2.312456  \n",
      "7           0.339175                -34               -1.743074  \n",
      "8           1.074053                -37               -1.841095  \n",
      "9           0.565291                -18               -0.892283  \n",
      "10          0.452233                -18               -0.901229  \n",
      "11          2.543810                -29               -1.308350  \n",
      "12          3.222159                -18               -0.682057  \n",
      "13          1.130582                -10               -0.431104  \n",
      "14          0.282646               -195              -10.128599  \n",
      "15          1.582815                -49               -2.425514  \n",
      "16          0.282646                -18               -0.914648  \n",
      "17          0.113058                -13               -0.667785  \n",
      "18          0.904466                 -1                0.019510  \n",
      "19          0.169587                  1                0.065475  \n",
      "20          5.128205                -33               -2.604429  \n",
      "21         12.228797                -34               -0.353117  \n",
      "22          5.128205                -11                0.278926  \n",
      "23          0.788955                  2                0.526831  \n",
      "24          0.715990                -36               -1.385831  \n",
      "25          0.079554                -36               -1.648610  \n",
      "26          2.625298                -85               -2.886145  \n",
      "27          0.318218                -48               -2.110554  \n",
      "28          0.318218                -10               -0.335682  \n",
      "29          0.079554                -13               -0.574346  \n",
      "30          7.239459               -153               -4.157085  \n",
      "31          0.159109               -189               -8.761956  \n",
      "32          0.079554                -21               -0.948003  \n",
      "33          0.079554               -246              -11.457111  \n",
      "34          0.079554                 -4               -0.153981  \n",
      "35          0.079554                -20               -0.901296  \n",
      "36          0.079554                 -1               -0.013860  \n",
      "37          0.636436                 -9               -0.157586  \n",
      "38          2.784407                 13                1.756850  \n"
     ]
    }
   ],
   "source": [
    "# Merge datasets for comparison\n",
    "comparison_llama31 = ground_truth.merge(model_output_llama31, on=[\"Category\", \"Attribute\"], suffixes=(\"_gt\", \"_model\"))\n",
    "\n",
    "# Calculate deviations\n",
    "comparison_llama31[\"Deviation (Count)\"] = comparison_llama31[\"Count_model\"] - comparison_llama31[\"Count_gt\"]\n",
    "comparison_llama31[\"Deviation (Percentage)\"] = comparison_llama31[\"Percentage_model\"] - comparison_llama31[\"Percentage_gt\"]\n",
    "\n",
    "print(comparison_llama31)"
   ]
  },
  {
   "cell_type": "code",
   "execution_count": null,
   "id": "fd41b776",
   "metadata": {},
   "outputs": [],
   "source": []
  }
 ],
 "metadata": {
  "kernelspec": {
   "display_name": "Python 3 (ipykernel)",
   "language": "python",
   "name": "python3"
  },
  "language_info": {
   "codemirror_mode": {
    "name": "ipython",
    "version": 3
   },
   "file_extension": ".py",
   "mimetype": "text/x-python",
   "name": "python",
   "nbconvert_exporter": "python",
   "pygments_lexer": "ipython3",
   "version": "3.9.15"
  }
 },
 "nbformat": 4,
 "nbformat_minor": 5
}
