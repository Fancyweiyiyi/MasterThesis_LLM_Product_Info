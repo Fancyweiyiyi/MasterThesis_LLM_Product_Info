{
 "cells": [
  {
   "cell_type": "code",
   "execution_count": 1,
   "id": "1c2eb888",
   "metadata": {},
   "outputs": [],
   "source": [
    "import pandas as pd\n",
    "\n",
    "# Load the model outputs\n",
    "gpt4_outputs = pd.read_csv(\"raw_results_chatgpt4_statistic.csv\")\n",
    "gpt4omini_outputs = pd.read_csv(\"raw_results_chatgpt4omini.csv\")\n",
    "llama3_outputs = pd.read_csv(\"raw_results_llama3_1.csv\")\n",
    "deepseek_outputs = pd.read_csv(\"DeepSeekV3_raw_Results.csv\")\n",
    "\n",
    "# Load the manual mapping table\n",
    "mapping_table = pd.read_excel(\"Manual_Mapping_Table.xlsx\")\n",
    "\n",
    "# Load the ground truth\n",
    "ground_truth = pd.read_excel(\"ground_truth.xlsx\")\n"
   ]
  },
  {
   "cell_type": "code",
   "execution_count": 2,
   "id": "6034a03b",
   "metadata": {},
   "outputs": [],
   "source": [
    "import Levenshtein\n",
    "\n",
    "def calculate_similarity(attribute, ground_truth_attributes, threshold=0.8):\n",
    "    \"\"\"\n",
    "    Calculate the similarity between an extracted attribute and ground truth attributes.\n",
    "    Return the best match if similarity exceeds the threshold.\n",
    "    \"\"\"\n",
    "    best_match = None\n",
    "    highest_similarity = 0\n",
    "    \n",
    "    for gt_attribute in ground_truth_attributes:\n",
    "        # Calculate normalized Levenshtein similarity\n",
    "        similarity = 1 - Levenshtein.distance(attribute, gt_attribute) / max(len(attribute), len(gt_attribute))\n",
    "        if similarity > highest_similarity:\n",
    "            highest_similarity = similarity\n",
    "            best_match = gt_attribute\n",
    "    \n",
    "    # Only return the match if it meets the threshold\n",
    "    if highest_similarity >= threshold:\n",
    "        return best_match, highest_similarity\n",
    "    return None, highest_similarity\n"
   ]
  },
  {
   "cell_type": "code",
   "execution_count": 3,
   "id": "0ea6d112",
   "metadata": {},
   "outputs": [],
   "source": [
    "def evaluate_model(model_outputs, ground_truth_attributes, threshold=0.8):\n",
    "    results = []\n",
    "    \n",
    "    for index, row in model_outputs.iterrows():\n",
    "        extracted_attribute = row[\"Attribute\"]  # Replace \"Attribute\" with your column name\n",
    "        category = row[\"Category\"]  # Replace \"Category\" with your column name\n",
    "        \n",
    "        # Filter ground truth attributes by category\n",
    "        gt_attributes = ground_truth[ground_truth[\"Category\"] == category][\"Attribute\"]\n",
    "        \n",
    "        # Calculate similarity\n",
    "        best_match, similarity = calculate_similarity(extracted_attribute, gt_attributes, threshold)\n",
    "        results.append({\n",
    "            \"Extracted Attribute\": extracted_attribute,\n",
    "            \"Best Match\": best_match,\n",
    "            \"Similarity\": similarity,\n",
    "            \"Category\": category\n",
    "        })\n",
    "    \n",
    "    return pd.DataFrame(results)\n",
    "\n",
    "# Evaluate each model\n",
    "gpt4_similarity_results = evaluate_model(gpt4_outputs, ground_truth, threshold=0.8)\n",
    "gpt4omini_similarity_results = evaluate_model(gpt4omini_outputs, ground_truth, threshold=0.8)\n",
    "llama3_similarity_results = evaluate_model(llama3_outputs, ground_truth, threshold=0.8)\n",
    "deepseek_similarity_results = evaluate_model(deepseek_outputs, ground_truth, threshold=0.8)\n",
    "\n",
    "# Save results to files for analysis\n",
    "gpt4_similarity_results.to_csv(\"gpt4_similarity_results.csv\", index=False)\n",
    "gpt4omini_similarity_results.to_csv(\"gpt4omini_similarity_results.csv\", index=False)\n",
    "llama3_similarity_results.to_csv(\"llama3_similarity_results.csv\", index=False)\n",
    "deepseek_similarity_results.to_csv(\"deepseek_similarity_results.csv\", index=False)\n"
   ]
  },
  {
   "cell_type": "code",
   "execution_count": 5,
   "id": "39ea50dd",
   "metadata": {},
   "outputs": [
    {
     "name": "stdout",
     "output_type": "stream",
     "text": [
      "   Threshold  Precision    Recall  F1-Score\n",
      "0       0.70   0.056812  0.809917  0.106176\n",
      "1       0.75   0.052754  0.752066  0.098592\n",
      "2       0.80   0.041739  0.595041  0.078007\n",
      "3       0.85   0.019710  0.280992  0.036836\n",
      "4       0.90   0.008696  0.123967  0.016251\n"
     ]
    }
   ],
   "source": [
    "def analyze_thresholds(model_outputs, ground_truth_attributes, thresholds):\n",
    "    threshold_results = []\n",
    "    \n",
    "    for threshold in thresholds:\n",
    "        # Evaluate model at current threshold\n",
    "        results = evaluate_model(model_outputs, ground_truth_attributes, threshold)\n",
    "        \n",
    "        # Calculate metrics\n",
    "        matched = results[\"Best Match\"].notna().sum()\n",
    "        total_extracted = len(results)\n",
    "        total_ground_truth = len(ground_truth_attributes)\n",
    "        \n",
    "        precision = matched / total_extracted if total_extracted > 0 else 0\n",
    "        recall = matched / total_ground_truth if total_ground_truth > 0 else 0\n",
    "        f1_score = 2 * (precision * recall) / (precision + recall) if precision + recall > 0 else 0\n",
    "        \n",
    "        threshold_results.append({\n",
    "            \"Threshold\": threshold,\n",
    "            \"Precision\": precision,\n",
    "            \"Recall\": recall,\n",
    "            \"F1-Score\": f1_score\n",
    "        })\n",
    "    \n",
    "    return pd.DataFrame(threshold_results)\n",
    "\n",
    "thresholds = [0.7, 0.75, 0.8, 0.85, 0.9]\n",
    "gpt4_threshold_analysis = analyze_thresholds(gpt4_outputs, ground_truth, thresholds)\n",
    "print(gpt4_threshold_analysis)\n"
   ]
  },
  {
   "cell_type": "code",
   "execution_count": 6,
   "id": "17ca8bdd",
   "metadata": {},
   "outputs": [
    {
     "name": "stdout",
     "output_type": "stream",
     "text": [
      "   Threshold  Precision    Recall  F1-Score\n",
      "0       0.70       0.23  0.190083  0.208145\n",
      "1       0.75       0.22  0.181818  0.199095\n",
      "2       0.80       0.16  0.132231  0.144796\n",
      "3       0.85       0.14  0.115702  0.126697\n",
      "4       0.90       0.14  0.115702  0.126697\n"
     ]
    }
   ],
   "source": [
    "gpt4omini_threshold_analysis = analyze_thresholds(gpt4omini_outputs, ground_truth, thresholds)\n",
    "print(gpt4omini_threshold_analysis)"
   ]
  },
  {
   "cell_type": "code",
   "execution_count": 7,
   "id": "b5fb4fff",
   "metadata": {},
   "outputs": [
    {
     "name": "stdout",
     "output_type": "stream",
     "text": [
      "   Threshold  Precision    Recall  F1-Score\n",
      "0       0.70   0.044355  0.454545  0.080823\n",
      "1       0.75   0.041129  0.421488  0.074945\n",
      "2       0.80   0.032258  0.330579  0.058780\n",
      "3       0.85   0.014516  0.148760  0.026451\n",
      "4       0.90   0.004839  0.049587  0.008817\n"
     ]
    }
   ],
   "source": [
    "llama3_threshold_analysis = analyze_thresholds(llama3_outputs, ground_truth, thresholds)\n",
    "print(llama3_threshold_analysis)"
   ]
  },
  {
   "cell_type": "code",
   "execution_count": 8,
   "id": "7ba759f1",
   "metadata": {},
   "outputs": [
    {
     "name": "stdout",
     "output_type": "stream",
     "text": [
      "   Threshold  Precision    Recall  F1-Score\n",
      "0       0.70   0.103093  0.826446  0.183318\n",
      "1       0.75   0.100000  0.801653  0.177819\n",
      "2       0.80   0.081443  0.652893  0.144821\n",
      "3       0.85   0.070103  0.561983  0.124656\n",
      "4       0.90   0.058763  0.471074  0.104491\n"
     ]
    }
   ],
   "source": [
    "deepseek_threshold_analysis = analyze_thresholds(deepseek_outputs, ground_truth, thresholds)\n",
    "print(deepseek_threshold_analysis)"
   ]
  },
  {
   "cell_type": "code",
   "execution_count": 9,
   "id": "eb8e5220",
   "metadata": {},
   "outputs": [
    {
     "name": "stdout",
     "output_type": "stream",
     "text": [
      "GPT-4: 1500 attributes\n",
      "GPT-4o Mini: 76 attributes\n",
      "LLaMA 3.1: 1113 attributes\n",
      "DeepSeek-V3: 814 attributes\n"
     ]
    }
   ],
   "source": [
    "# Extract unique attributes for each model\n",
    "gpt4_attributes = list(set(gpt4_outputs[\"Attribute\"]))\n",
    "gpt4omini_attributes = list(set(gpt4omini_outputs[\"Attribute\"]))\n",
    "llama3_attributes = list(set(llama3_outputs[\"Attribute\"]))\n",
    "deepseek_attributes = list(set(deepseek_outputs[\"Attribute\"]))\n",
    "\n",
    "print(f\"GPT-4: {len(gpt4_attributes)} attributes\")\n",
    "print(f\"GPT-4o Mini: {len(gpt4omini_attributes)} attributes\")\n",
    "print(f\"LLaMA 3.1: {len(llama3_attributes)} attributes\")\n",
    "print(f\"DeepSeek-V3: {len(deepseek_attributes)} attributes\")"
   ]
  },
  {
   "cell_type": "code",
   "execution_count": 10,
   "id": "459fe0d6",
   "metadata": {},
   "outputs": [
    {
     "name": "stdout",
     "output_type": "stream",
     "text": [
      "Pairwise distance matrices calculated.\n"
     ]
    }
   ],
   "source": [
    "import numpy as np\n",
    "import Levenshtein\n",
    "\n",
    "def calculate_distance_matrix(attributes):\n",
    "    \"\"\"\n",
    "    Calculate the pairwise Levenshtein distance matrix for a list of attributes.\n",
    "    \"\"\"\n",
    "    n = len(attributes)\n",
    "    distance_matrix = np.zeros((n, n))\n",
    "    \n",
    "    for i, attr1 in enumerate(attributes):\n",
    "        for j, attr2 in enumerate(attributes):\n",
    "            if i < j:\n",
    "                distance = Levenshtein.distance(attr1, attr2)\n",
    "                distance_matrix[i, j] = distance\n",
    "                distance_matrix[j, i] = distance\n",
    "    \n",
    "    # Normalize distances\n",
    "    max_distance = np.max(distance_matrix)\n",
    "    return distance_matrix / max_distance\n",
    "\n",
    "# Calculate distance matrices\n",
    "gpt4_distance_matrix = calculate_distance_matrix(gpt4_attributes)\n",
    "gpt4omini_distance_matrix = calculate_distance_matrix(gpt4omini_attributes)\n",
    "llama3_distance_matrix = calculate_distance_matrix(llama3_attributes)\n",
    "deepseek_distance_matrix = calculate_distance_matrix(deepseek_attributes)\n",
    "\n",
    "print(\"Pairwise distance matrices calculated.\")\n"
   ]
  },
  {
   "cell_type": "code",
   "execution_count": 11,
   "id": "0b315e3c",
   "metadata": {},
   "outputs": [
    {
     "name": "stdout",
     "output_type": "stream",
     "text": [
      "Clustering completed for all models.\n"
     ]
    }
   ],
   "source": [
    "from sklearn.cluster import AgglomerativeClustering\n",
    "\n",
    "def perform_clustering(distance_matrix, attributes, n_clusters=5):\n",
    "    \"\"\"\n",
    "    Perform Agglomerative Clustering using a precomputed distance matrix.\n",
    "    \"\"\"\n",
    "    clustering = AgglomerativeClustering(\n",
    "        n_clusters=n_clusters,\n",
    "        affinity=\"precomputed\",\n",
    "        linkage=\"average\"\n",
    "    ).fit(distance_matrix)\n",
    "    \n",
    "    return pd.DataFrame({\n",
    "        \"Attribute\": attributes,\n",
    "        \"Cluster Label\": clustering.labels_\n",
    "    })\n",
    "\n",
    "# Perform clustering for each model\n",
    "gpt4_clustering_results = perform_clustering(gpt4_distance_matrix, gpt4_attributes, n_clusters=5)\n",
    "gpt4omini_clustering_results = perform_clustering(gpt4omini_distance_matrix, gpt4omini_attributes, n_clusters=5)\n",
    "llama3_clustering_results = perform_clustering(llama3_distance_matrix, llama3_attributes, n_clusters=5)\n",
    "deepseek_clustering_results = perform_clustering(deepseek_distance_matrix, deepseek_attributes, n_clusters=5)\n",
    "\n",
    "print(\"Clustering completed for all models.\")\n"
   ]
  },
  {
   "cell_type": "code",
   "execution_count": 14,
   "id": "2258f29c",
   "metadata": {},
   "outputs": [
    {
     "name": "stdout",
     "output_type": "stream",
     "text": [
      "GPT-4: Silhouette Score = 0.43, Davies-Bouldin Index = 2.93\n",
      "GPT-4o Mini: Silhouette Score = 0.13, Davies-Bouldin Index = 0.44\n",
      "LLaMA 3.1: Silhouette Score = 0.39, Davies-Bouldin Index = 1.93\n",
      "DeepSeek-V3: Silhouette Score = 0.34, Davies-Bouldin Index = 1.23\n"
     ]
    }
   ],
   "source": [
    "from sklearn.manifold import MDS\n",
    "from sklearn.metrics import silhouette_score, davies_bouldin_score\n",
    "\n",
    "def evaluate_clustering(distance_matrix, labels):\n",
    "    \"\"\"\n",
    "    Evaluate clustering quality using Silhouette Score and Davies-Bouldin Index.\n",
    "    \"\"\"\n",
    "    # Convert distance matrix to embeddings using MDS\n",
    "    mds = MDS(n_components=2, dissimilarity=\"precomputed\", random_state=42)\n",
    "    embeddings = mds.fit_transform(distance_matrix)\n",
    "    \n",
    "    # Calculate metrics\n",
    "    silhouette = silhouette_score(embeddings, labels)\n",
    "    davies_bouldin = davies_bouldin_score(embeddings, labels)\n",
    "    \n",
    "    return silhouette, davies_bouldin\n",
    "\n",
    "# Evaluate clustering for each model\n",
    "gpt4_silhouette, gpt4_davies_bouldin = evaluate_clustering(gpt4_distance_matrix, gpt4_clustering_results[\"Cluster Label\"])\n",
    "gpt4omini_silhouette, gpt4omini_davies_bouldin = evaluate_clustering(gpt4omini_distance_matrix, gpt4omini_clustering_results[\"Cluster Label\"])\n",
    "llama3_silhouette, llama3_davies_bouldin = evaluate_clustering(llama3_distance_matrix, llama3_clustering_results[\"Cluster Label\"])\n",
    "deepseek_silhouette, deepseek_davies_bouldin = evaluate_clustering(deepseek_distance_matrix, deepseek_clustering_results[\"Cluster Label\"])\n",
    "\n",
    "print(\"GPT-4: Silhouette Score = {:.2f}, Davies-Bouldin Index = {:.2f}\".format(gpt4_silhouette, gpt4_davies_bouldin))\n",
    "print(\"GPT-4o Mini: Silhouette Score = {:.2f}, Davies-Bouldin Index = {:.2f}\".format(gpt4omini_silhouette, gpt4omini_davies_bouldin))\n",
    "print(\"LLaMA 3.1: Silhouette Score = {:.2f}, Davies-Bouldin Index = {:.2f}\".format(llama3_silhouette, llama3_davies_bouldin))\n",
    "print(\"DeepSeek-V3: Silhouette Score = {:.2f}, Davies-Bouldin Index = {:.2f}\".format(deepseek_silhouette, deepseek_davies_bouldin))\n"
   ]
  },
  {
   "cell_type": "code",
   "execution_count": null,
   "id": "2151a86a",
   "metadata": {},
   "outputs": [],
   "source": []
  },
  {
   "cell_type": "code",
   "execution_count": null,
   "id": "a4ebf8b0",
   "metadata": {},
   "outputs": [],
   "source": []
  },
  {
   "cell_type": "code",
   "execution_count": null,
   "id": "d71231a8",
   "metadata": {},
   "outputs": [],
   "source": []
  },
  {
   "cell_type": "code",
   "execution_count": null,
   "id": "faca5001",
   "metadata": {},
   "outputs": [],
   "source": []
  }
 ],
 "metadata": {
  "kernelspec": {
   "display_name": "Python 3 (ipykernel)",
   "language": "python",
   "name": "python3"
  },
  "language_info": {
   "codemirror_mode": {
    "name": "ipython",
    "version": 3
   },
   "file_extension": ".py",
   "mimetype": "text/x-python",
   "name": "python",
   "nbconvert_exporter": "python",
   "pygments_lexer": "ipython3",
   "version": "3.9.15"
  }
 },
 "nbformat": 4,
 "nbformat_minor": 5
}
