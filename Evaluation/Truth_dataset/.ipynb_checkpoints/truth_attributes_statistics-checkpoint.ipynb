{
 "cells": [
  {
   "cell_type": "code",
   "execution_count": 1,
   "id": "2a544ae8",
   "metadata": {},
   "outputs": [],
   "source": [
    "import pandas as pd\n",
    "\n",
    "# Load the datasets\n",
    "gro_df_updated = pd.read_excel('Truth_Dataset_gro.xlsx')\n",
    "hom_df_updated = pd.read_excel('Truth_Dataset_hom.xlsx')\n",
    "jew_df_updated = pd.read_excel('Truth_Dataset_jew.xlsx')\n",
    "off_df_updated = pd.read_excel('Truth_Dataset_off.xlsx')"
   ]
  },
  {
   "cell_type": "code",
   "execution_count": 2,
   "id": "44f8f95f",
   "metadata": {},
   "outputs": [],
   "source": [
    "# Define a function to calculate statistics excluding 'title' and 'description'\n",
    "def filter_and_calculate_excluding(df, category):\n",
    "    # Exclude 'title' and 'description' columns\n",
    "    attributes = [col for col in df.columns if col not in ['title', 'description']]\n",
    "    filtered_df = df[attributes]\n",
    "    attribute_counts = filtered_df.notnull().sum().reset_index()\n",
    "    attribute_counts.columns = ['Attribute', 'Count']\n",
    "    total_count = attribute_counts['Count'].sum()\n",
    "    attribute_counts['Percentage'] = (attribute_counts['Count'] / total_count) * 100\n",
    "    attribute_counts.insert(0, 'Category', category)\n",
    "    return attribute_counts\n"
   ]
  },
  {
   "cell_type": "code",
   "execution_count": 3,
   "id": "c170c2c8",
   "metadata": {},
   "outputs": [],
   "source": [
    "# Apply the function to each dataset\n",
    "gro_stats_final = filter_and_calculate_excluding(gro_df_updated, 'grocery')\n",
    "hom_stats_final = filter_and_calculate_excluding(hom_df_updated, 'home')\n",
    "jew_stats_final = filter_and_calculate_excluding(jew_df_updated, 'jewelry')\n",
    "off_stats_final = filter_and_calculate_excluding(off_df_updated, 'office')\n"
   ]
  },
  {
   "cell_type": "code",
   "execution_count": 4,
   "id": "d9a7f7ea",
   "metadata": {},
   "outputs": [
    {
     "name": "stdout",
     "output_type": "stream",
     "text": [
      "The results have been saved to Final_Attribute_Statistics.xlsx\n"
     ]
    }
   ],
   "source": [
    "# Combine all results into a single dataframe\n",
    "combined_stats_final = pd.concat([gro_stats_final, hom_stats_final, jew_stats_final, off_stats_final], ignore_index=True)\n",
    "\n",
    "# Save the results to an Excel file\n",
    "output_path = \"Final_Attribute_Statistics.xlsx\"\n",
    "combined_stats_final.to_excel(output_path, index=False)\n",
    "\n",
    "print(f\"The results have been saved to {output_path}\")"
   ]
  },
  {
   "cell_type": "code",
   "execution_count": null,
   "id": "86deceb2",
   "metadata": {},
   "outputs": [],
   "source": []
  },
  {
   "cell_type": "code",
   "execution_count": null,
   "id": "be6e65ed",
   "metadata": {},
   "outputs": [],
   "source": []
  }
 ],
 "metadata": {
  "kernelspec": {
   "display_name": "Python 3 (ipykernel)",
   "language": "python",
   "name": "python3"
  },
  "language_info": {
   "codemirror_mode": {
    "name": "ipython",
    "version": 3
   },
   "file_extension": ".py",
   "mimetype": "text/x-python",
   "name": "python",
   "nbconvert_exporter": "python",
   "pygments_lexer": "ipython3",
   "version": "3.9.15"
  }
 },
 "nbformat": 4,
 "nbformat_minor": 5
}
